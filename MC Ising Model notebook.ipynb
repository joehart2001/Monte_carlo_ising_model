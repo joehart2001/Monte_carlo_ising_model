{
 "cells": [
  {
   "cell_type": "markdown",
   "metadata": {},
   "source": [
    "# Monte Carlo Ising Model"
   ]
  },
  {
   "cell_type": "markdown",
   "metadata": {},
   "source": [
    "- Magnetism is the sum of the spins\n",
    "- averages of an observable: 1/Q * sum of obsevable * probabiity\n",
    "- 2x2 lattice, 16 possible configs: 2^N\n",
    "- only calaculte states with considerable boltzmann factors: importance sampling, rather than sampling states randomly - how MC method works\n",
    "- not a time based method, just about minimisng energy: a MC step is not a time step its a \"trial step\" \n",
    "- MC uses canonical ensemble\n",
    "- minimise Helmhotlz free energy"
   ]
  },
  {
   "cell_type": "markdown",
   "metadata": {},
   "source": [
    "### Task 1"
   ]
  },
  {
   "cell_type": "markdown",
   "metadata": {},
   "source": [
    "Task 1a:  \n",
    "no. nearest neighbours = 2D where D is the dimension  \n",
    "min energy when all spins are aligned  \n",
    "2 configs where the spins are all aligned (all down or all up) therefore multiplicity = 2\n",
    "Entropy: \n",
    "s = kbln(W) = kbln(2)"
   ]
  },
  {
   "cell_type": "markdown",
   "metadata": {},
   "source": [
    "TASK 1b:  \n",
    "D = 3, N = 1000  \n",
    "1000 positions and 2 spins states therefore 2000 configs or  \n",
    "W = 2 * N!/n!(N-n)! = 2000  \n",
    "change in S: kbln(2000) - kbln(2) = kbln(1000)  \n",
    "  \n",
    "E of one interacting spin = -6J  \n",
    "E of one interacting oppsite spin = 6J  \n",
    "change in energy = 12J  \n",
    "factor of 1/2 removed as no double counting for 1 molecule\n"
   ]
  },
  {
   "cell_type": "markdown",
   "metadata": {},
   "source": [
    "Task 1c:  \n",
    "low T - energetic driving force dominates and most spins parallel  \n",
    "high T - entropic driving force dominates and spins rotate freely  \n",
    "1D: M = 3 - 2 = 1  \n",
    "2D: M = 13 - 12 = 1  \n",
    "absolute zero: all spins aligned  \n",
    "M = +- 1000"
   ]
  },
  {
   "cell_type": "markdown",
   "metadata": {},
   "source": [
    "### Task 2"
   ]
  },
  {
   "cell_type": "code",
   "execution_count": 1,
   "metadata": {},
   "outputs": [],
   "source": [
    "import numpy as np"
   ]
  },
  {
   "cell_type": "markdown",
   "metadata": {},
   "source": [
    "Task 2a:"
   ]
  },
  {
   "cell_type": "code",
   "execution_count": 597,
   "metadata": {},
   "outputs": [
    {
     "name": "stdout",
     "output_type": "stream",
     "text": [
      "The autoreload extension is already loaded. To reload it, use:\n",
      "  %reload_ext autoreload\n"
     ]
    }
   ],
   "source": [
    "%load_ext autoreload\n",
    "%autoreload 2"
   ]
  },
  {
   "cell_type": "code",
   "execution_count": 601,
   "metadata": {},
   "outputs": [],
   "source": [
    "import IsingLattice as il\n",
    "%run ILcheck.py"
   ]
  },
  {
   "cell_type": "markdown",
   "metadata": {},
   "source": [
    "### Task 3"
   ]
  },
  {
   "cell_type": "markdown",
   "metadata": {},
   "source": [
    "Task 3a:  \n",
    "2 types of spin, 100 spins: 2^100 configs  \n",
    "time = 2^100/1x10^9 = 1.3x10^21 s"
   ]
  },
  {
   "cell_type": "markdown",
   "metadata": {},
   "source": []
  },
  {
   "cell_type": "markdown",
   "metadata": {},
   "source": [
    "Task 3b:  \n"
   ]
  },
  {
   "cell_type": "code",
   "execution_count": 4,
   "metadata": {},
   "outputs": [
    {
     "name": "stdout",
     "output_type": "stream",
     "text": [
      "Using matplotlib backend: MacOSX\n"
     ]
    }
   ],
   "source": [
    "%matplotlib"
   ]
  },
  {
   "cell_type": "code",
   "execution_count": 602,
   "metadata": {},
   "outputs": [
    {
     "name": "stdout",
     "output_type": "stream",
     "text": [
      "Using matplotlib backend: MacOSX\n"
     ]
    },
    {
     "ename": "UnboundLocalError",
     "evalue": "local variable 'avg_E' referenced before assignment",
     "output_type": "error",
     "traceback": [
      "\u001b[0;31m---------------------------------------------------------------------------\u001b[0m",
      "\u001b[0;31mUnboundLocalError\u001b[0m                         Traceback (most recent call last)",
      "\u001b[0;32m~/Desktop/chemistry/Year 3/Practical Chemistry 3/Ising model/ILanim.py\u001b[0m in \u001b[0;36m<module>\u001b[0;34m\u001b[0m\n\u001b[1;32m     64\u001b[0m \u001b[0mpl\u001b[0m\u001b[0;34m.\u001b[0m\u001b[0mshow\u001b[0m\u001b[0;34m(\u001b[0m\u001b[0;34m)\u001b[0m\u001b[0;34m\u001b[0m\u001b[0;34m\u001b[0m\u001b[0m\n\u001b[1;32m     65\u001b[0m \u001b[0;34m\u001b[0m\u001b[0m\n\u001b[0;32m---> 66\u001b[0;31m \u001b[0mE\u001b[0m\u001b[0;34m,\u001b[0m \u001b[0mE2\u001b[0m\u001b[0;34m,\u001b[0m \u001b[0mM\u001b[0m\u001b[0;34m,\u001b[0m \u001b[0mM2\u001b[0m\u001b[0;34m,\u001b[0m \u001b[0mN\u001b[0m \u001b[0;34m=\u001b[0m \u001b[0mil\u001b[0m\u001b[0;34m.\u001b[0m\u001b[0mstatistics\u001b[0m\u001b[0;34m(\u001b[0m\u001b[0;34m)\u001b[0m\u001b[0;34m\u001b[0m\u001b[0;34m\u001b[0m\u001b[0m\n\u001b[0m\u001b[1;32m     67\u001b[0m \u001b[0;34m\u001b[0m\u001b[0m\n\u001b[1;32m     68\u001b[0m \u001b[0mprint\u001b[0m\u001b[0;34m(\u001b[0m\u001b[0;34m\"Averaged quantities:\"\u001b[0m\u001b[0;34m)\u001b[0m\u001b[0;34m\u001b[0m\u001b[0;34m\u001b[0m\u001b[0m\n",
      "\u001b[0;32m~/Desktop/chemistry/Year 3/Practical Chemistry 3/Ising model/IsingLattice.py\u001b[0m in \u001b[0;36mstatistics\u001b[0;34m(self)\u001b[0m\n\u001b[1;32m    129\u001b[0m             \u001b[0mavg_M2\u001b[0m \u001b[0;34m=\u001b[0m \u001b[0mself\u001b[0m\u001b[0;34m.\u001b[0m\u001b[0mM2\u001b[0m\u001b[0;34m/\u001b[0m\u001b[0;34m(\u001b[0m\u001b[0mN\u001b[0m\u001b[0;34m-\u001b[0m\u001b[0mcutoff\u001b[0m\u001b[0;34m)\u001b[0m\u001b[0;34m\u001b[0m\u001b[0;34m\u001b[0m\u001b[0m\n\u001b[1;32m    130\u001b[0m \u001b[0;34m\u001b[0m\u001b[0m\n\u001b[0;32m--> 131\u001b[0;31m         \u001b[0;32mreturn\u001b[0m \u001b[0mavg_E\u001b[0m\u001b[0;34m,\u001b[0m \u001b[0mavg_E2\u001b[0m\u001b[0;34m,\u001b[0m \u001b[0mavg_M\u001b[0m\u001b[0;34m,\u001b[0m \u001b[0mavg_M2\u001b[0m\u001b[0;34m,\u001b[0m \u001b[0mN\u001b[0m\u001b[0;34m\u001b[0m\u001b[0;34m\u001b[0m\u001b[0m\n\u001b[0m",
      "\u001b[0;31mUnboundLocalError\u001b[0m: local variable 'avg_E' referenced before assignment"
     ]
    }
   ],
   "source": [
    "%matplotlib\n",
    "%run ILanim.py\n"
   ]
  },
  {
   "cell_type": "markdown",
   "metadata": {},
   "source": [
    "Task 3c:  \n",
    "Below Tc minimisation of energy dominates and the majority of spins are aligned, therefore <M> != 0"
   ]
  },
  {
   "cell_type": "markdown",
   "metadata": {},
   "source": [
    "Explain why average it tends to is wrong for average energy and M  \n",
    "takes average value from beginning to end, not from when it equilibrates"
   ]
  },
  {
   "cell_type": "markdown",
   "metadata": {},
   "source": [
    "<div>\n",
    "<img src=\"Task%203c.png\" width=\"400\"/>\n",
    "</div>"
   ]
  },
  {
   "cell_type": "code",
   "execution_count": 14,
   "metadata": {},
   "outputs": [],
   "source": [
    "# at low T all the spins should be aligned at equilibrium\n",
    "# sometimes stuck in a metastable state (local minima) as on interface between\n",
    "# opposite spins there are unfavourable interactions therefore cant be \n",
    "# global minima\n",
    "# dependent on startin position"
   ]
  },
  {
   "cell_type": "markdown",
   "metadata": {},
   "source": [
    "### Task 4"
   ]
  },
  {
   "cell_type": "markdown",
   "metadata": {},
   "source": [
    "Task 4a:  \n",
    "recording 5x time to do 2000 steps"
   ]
  },
  {
   "cell_type": "code",
   "execution_count": 5,
   "metadata": {},
   "outputs": [],
   "source": [
    "time_list = []"
   ]
  },
  {
   "cell_type": "code",
   "execution_count": 78,
   "metadata": {},
   "outputs": [
    {
     "name": "stdout",
     "output_type": "stream",
     "text": [
      "2000 steps took 41.23636899999997 s\n"
     ]
    }
   ],
   "source": [
    "%run ILtimetrial.py"
   ]
  },
  {
   "cell_type": "code",
   "execution_count": 6,
   "metadata": {},
   "outputs": [
    {
     "name": "stdout",
     "output_type": "stream",
     "text": [
      "2000 steps took 41.75272 s\n",
      "2000 steps took 41.916987 s\n",
      "2000 steps took 41.88158399999999 s\n",
      "2000 steps took 41.60669300000001 s\n",
      "2000 steps took 41.362611000000015 s\n"
     ]
    }
   ],
   "source": [
    "for i in range(0,5):\n",
    "    %run ILtimetrial.py\n",
    "    time_list.append(elapsed_time)\n"
   ]
  },
  {
   "cell_type": "code",
   "execution_count": 13,
   "metadata": {},
   "outputs": [
    {
     "name": "stdout",
     "output_type": "stream",
     "text": [
      "41.704119000000006\n",
      "0.09061748360884529\n"
     ]
    }
   ],
   "source": [
    "avg_time = np.average(time_list)\n",
    "error = np.std(time_list)/np.sqrt(len(time_list))\n",
    "print(avg_time)\n",
    "print(error)"
   ]
  },
  {
   "cell_type": "markdown",
   "metadata": {},
   "source": [
    "41.70 +- 0.09s"
   ]
  },
  {
   "cell_type": "markdown",
   "metadata": {},
   "source": [
    "Task 4b:  \n",
    "now have 0 for loops instead of 2, only call energy 2 times not 4"
   ]
  },
  {
   "cell_type": "markdown",
   "metadata": {},
   "source": [
    "np.roll(arr, n) shifts the array by n to the right, wrapping round the edges and putting the last element to the start.  \n",
    "for the lattice we can roll the whole lattice to the right and also up. this means we can remove both for loops and removes the need to loop over coordinates."
   ]
  },
  {
   "cell_type": "markdown",
   "metadata": {},
   "source": [
    "Task 4c:"
   ]
  },
  {
   "cell_type": "code",
   "execution_count": 21,
   "metadata": {},
   "outputs": [
    {
     "name": "stdout",
     "output_type": "stream",
     "text": [
      "2000 steps took 0.169354000000002 s\n"
     ]
    }
   ],
   "source": [
    "%run IsingLattice.py\n",
    "%run ILtimetrial.py"
   ]
  },
  {
   "cell_type": "code",
   "execution_count": 10,
   "metadata": {},
   "outputs": [
    {
     "name": "stdout",
     "output_type": "stream",
     "text": [
      "2000 steps took 0.16250700000000506 s\n",
      "2000 steps took 0.15863099999998553 s\n",
      "2000 steps took 0.16045400000001564 s\n",
      "2000 steps took 0.15831399999999007 s\n",
      "2000 steps took 0.15939000000000192 s\n"
     ]
    }
   ],
   "source": [
    "time_list_fast = []\n",
    "for i in range(0,5):\n",
    "    %run ILtimetrial.py\n",
    "    time_list_fast.append(elapsed_time)"
   ]
  },
  {
   "cell_type": "code",
   "execution_count": 11,
   "metadata": {},
   "outputs": [
    {
     "name": "stdout",
     "output_type": "stream",
     "text": [
      "0.15985919999999965\n",
      "0.0006776695005711805\n"
     ]
    }
   ],
   "source": [
    "avg_time_fast = np.average(time_list_fast)\n",
    "error_fast = np.std(time_list_fast)/np.sqrt(len(time_list_fast))\n",
    "print(avg_time_fast)\n",
    "print(error_fast)"
   ]
  },
  {
   "cell_type": "markdown",
   "metadata": {},
   "source": [
    "0.1721 +- 0.0020s"
   ]
  },
  {
   "cell_type": "code",
   "execution_count": 603,
   "metadata": {},
   "outputs": [],
   "source": [
    "lattice = np.random.choice([-1,1], size=(5, 5))"
   ]
  },
  {
   "cell_type": "code",
   "execution_count": 604,
   "metadata": {},
   "outputs": [
    {
     "data": {
      "text/plain": [
       "array([[ 1, -1,  1,  1, -1],\n",
       "       [-1,  1,  1,  1,  1],\n",
       "       [-1, -1,  1, -1, -1],\n",
       "       [-1,  1,  1, -1,  1],\n",
       "       [-1,  1, -1,  1,  1]])"
      ]
     },
     "execution_count": 604,
     "metadata": {},
     "output_type": "execute_result"
    }
   ],
   "source": [
    "lattice"
   ]
  },
  {
   "cell_type": "code",
   "execution_count": 606,
   "metadata": {},
   "outputs": [],
   "source": [
    "R = np.roll(lattice, shift=-1, axis=0)\n",
    "UP = np.roll(lattice, shift=-1, axis=1)"
   ]
  },
  {
   "cell_type": "code",
   "execution_count": 609,
   "metadata": {},
   "outputs": [
    {
     "data": {
      "text/plain": [
       "array([[-1,  1,  1,  1,  1],\n",
       "       [-1, -1,  1, -1, -1],\n",
       "       [-1,  1,  1, -1,  1],\n",
       "       [-1,  1, -1,  1,  1],\n",
       "       [ 1, -1,  1,  1, -1]])"
      ]
     },
     "execution_count": 609,
     "metadata": {},
     "output_type": "execute_result"
    }
   ],
   "source": [
    "R"
   ]
  },
  {
   "cell_type": "code",
   "execution_count": 608,
   "metadata": {},
   "outputs": [
    {
     "data": {
      "text/plain": [
       "array([[-1,  1,  1, -1,  1],\n",
       "       [ 1,  1,  1,  1, -1],\n",
       "       [-1,  1, -1, -1, -1],\n",
       "       [ 1,  1, -1,  1, -1],\n",
       "       [ 1, -1,  1,  1, -1]])"
      ]
     },
     "execution_count": 608,
     "metadata": {},
     "output_type": "execute_result"
    }
   ],
   "source": [
    "UP"
   ]
  },
  {
   "cell_type": "code",
   "execution_count": 611,
   "metadata": {},
   "outputs": [
    {
     "data": {
      "text/plain": [
       "array([[-2, -2,  2,  0, -2],\n",
       "       [ 0,  0,  2,  0, -2],\n",
       "       [ 2, -2,  0,  2,  0],\n",
       "       [ 0,  2, -2, -2,  0],\n",
       "       [-2, -2, -2,  2, -2]])"
      ]
     },
     "execution_count": 611,
     "metadata": {},
     "output_type": "execute_result"
    }
   ],
   "source": [
    "lattice * (R + UP)"
   ]
  },
  {
   "cell_type": "code",
   "execution_count": 613,
   "metadata": {},
   "outputs": [
    {
     "data": {
      "text/plain": [
       "-10"
      ]
     },
     "execution_count": 613,
     "metadata": {},
     "output_type": "execute_result"
    }
   ],
   "source": [
    "sum_sisj = np.sum(lattice * (R + UP), axis=(0, 1))\n",
    "sum_sisj"
   ]
  },
  {
   "cell_type": "markdown",
   "metadata": {},
   "source": [
    "### Task 5a"
   ]
  },
  {
   "cell_type": "code",
   "execution_count": null,
   "metadata": {},
   "outputs": [],
   "source": [
    "# used curve to determine what period we ignore\n",
    "# anything under the curve is definitely at equilibrium\n",
    "# put grid size being used into our funciton to find when it reached equilibrium."
   ]
  },
  {
   "cell_type": "code",
   "execution_count": 131,
   "metadata": {},
   "outputs": [
    {
     "name": "stdout",
     "output_type": "stream",
     "text": [
      "Step  0\n",
      "Step  100\n",
      "Step  200\n",
      "Step  300\n",
      "Step  400\n",
      "Step  500\n",
      "Step  600\n",
      "Step  700\n",
      "Step  800\n",
      "Step  900\n",
      "Step  1000\n",
      "Step  1100\n",
      "Step  1200\n",
      "Step  1300\n",
      "Step  1400\n",
      "Step  1500\n",
      "Step  1600\n",
      "Step  1700\n",
      "Step  1800\n",
      "Step  1900\n",
      "Step  2000\n",
      "Step  2100\n",
      "Step  2200\n",
      "Step  2300\n",
      "Step  2400\n",
      "Step  2500\n",
      "Step  2600\n",
      "Step  2700\n",
      "Step  2800\n",
      "Step  2900\n",
      "Step  3000\n",
      "Step  3100\n",
      "Step  3200\n",
      "Step  3300\n",
      "Step  3400\n",
      "Step  3500\n",
      "Step  3600\n",
      "Step  3700\n",
      "Step  3800\n",
      "Step  3900\n",
      "Step  4000\n",
      "Step  4100\n",
      "Step  4200\n",
      "Step  4300\n",
      "Step  4400\n",
      "Step  4500\n",
      "Step  4600\n",
      "Step  4700\n",
      "Step  4800\n",
      "Step  4900\n",
      "Step  5000\n",
      "Step  5100\n",
      "Step  5200\n",
      "Step  5300\n",
      "Step  5400\n",
      "Step  5500\n",
      "Step  5600\n",
      "Step  5700\n",
      "Step  5800\n",
      "Step  5900\n",
      "Step  6000\n",
      "Step  6100\n",
      "Step  6200\n",
      "Step  6300\n",
      "Step  6400\n",
      "Step  6500\n",
      "Step  6600\n",
      "Step  6700\n",
      "Step  6800\n",
      "Step  6900\n",
      "Step  7000\n",
      "Step  7100\n",
      "Step  7200\n",
      "Step  7300\n",
      "Step  7400\n",
      "Step  7500\n",
      "Step  7600\n",
      "Step  7700\n",
      "Step  7800\n",
      "Step  7900\n",
      "Step  8000\n",
      "Step  8100\n",
      "Step  8200\n",
      "Step  8300\n",
      "Step  8400\n",
      "Step  8500\n",
      "Step  8600\n",
      "Step  8700\n",
      "Step  8800\n",
      "Step  8900\n",
      "Step  9000\n",
      "Step  9100\n",
      "Step  9200\n",
      "Step  9300\n",
      "Step  9400\n",
      "Step  9500\n",
      "Step  9600\n",
      "Step  9700\n",
      "Step  9800\n",
      "Step  9900\n",
      "Step  10000\n",
      "Step  10100\n",
      "Step  10200\n",
      "Step  10300\n",
      "Step  10400\n",
      "Step  10500\n",
      "Step  10600\n",
      "Step  10700\n",
      "Step  10800\n",
      "Step  10900\n",
      "Step  11000\n",
      "Step  11100\n",
      "Step  11200\n",
      "Step  11300\n",
      "Step  11400\n",
      "Step  11500\n",
      "Step  11600\n",
      "Step  11700\n",
      "Step  11800\n",
      "Step  11900\n",
      "Step  12000\n",
      "Step  12100\n",
      "Step  12200\n",
      "Step  12300\n",
      "Step  12400\n",
      "Step  12500\n",
      "Step  12600\n",
      "Step  12700\n",
      "Step  12800\n",
      "Step  12900\n",
      "Step  13000\n",
      "Step  13100\n",
      "Step  13200\n",
      "Step  13300\n",
      "Step  13400\n",
      "Step  13500\n",
      "Step  13600\n",
      "Step  13700\n",
      "Step  13800\n",
      "Step  13900\n",
      "Step  14000\n",
      "Step  14100\n",
      "Step  14200\n",
      "Step  14300\n",
      "Step  14400\n",
      "Step  14500\n",
      "Step  14600\n",
      "Step  14700\n",
      "Step  14800\n",
      "Step  14900\n",
      "Step  15000\n",
      "Step  15100\n",
      "Step  15200\n",
      "Step  15300\n",
      "Step  15400\n",
      "Step  15500\n",
      "Step  15600\n",
      "Step  15700\n",
      "Step  15800\n",
      "Step  15900\n",
      "Step  16000\n",
      "Step  16100\n",
      "Step  16200\n",
      "Step  16300\n",
      "Step  16400\n",
      "Step  16500\n",
      "Step  16600\n",
      "Step  16700\n",
      "Step  16800\n",
      "Step  16900\n",
      "Step  17000\n",
      "Step  17100\n",
      "Step  17200\n",
      "Step  17300\n",
      "Step  17400\n",
      "Step  17500\n",
      "Step  17600\n",
      "Step  17700\n",
      "Step  17800\n",
      "Step  17900\n",
      "Step  18000\n",
      "Step  18100\n",
      "Step  18200\n",
      "Step  18300\n",
      "Step  18400\n",
      "Step  18500\n",
      "Step  18600\n",
      "Step  18700\n",
      "Step  18800\n",
      "Step  18900\n",
      "Step  19000\n",
      "Step  19100\n",
      "Step  19200\n",
      "Step  19300\n",
      "Step  19400\n",
      "Step  19500\n",
      "Step  19600\n",
      "Step  19700\n",
      "Step  19800\n",
      "Step  19900\n",
      "Step  20000\n",
      "Step  20100\n",
      "Step  20200\n",
      "Step  20300\n",
      "Step  20400\n",
      "Step  20500\n",
      "Step  20600\n",
      "Step  20700\n",
      "Step  20800\n",
      "Step  20900\n",
      "Step  21000\n",
      "Step  21100\n",
      "Step  21200\n",
      "Step  21300\n",
      "Step  21400\n",
      "Step  21500\n",
      "Step  21600\n",
      "Step  21700\n",
      "Step  21800\n",
      "Step  21900\n",
      "Step  22000\n",
      "Step  22100\n",
      "Step  22200\n",
      "Step  22300\n",
      "Step  22400\n",
      "Step  22500\n",
      "Step  22600\n",
      "Step  22700\n",
      "Step  22800\n",
      "Step  22900\n",
      "Step  23000\n",
      "Step  23100\n",
      "Step  23200\n",
      "Step  23300\n",
      "Step  23400\n",
      "Step  23500\n",
      "Step  23600\n",
      "Step  23700\n",
      "Step  23800\n",
      "Step  23900\n",
      "Step  24000\n",
      "Step  24100\n",
      "Step  24200\n",
      "Step  24300\n",
      "Step  24400\n",
      "Step  24500\n",
      "Step  24600\n",
      "Step  24700\n",
      "Step  24800\n",
      "Step  24900\n",
      "Step  25000\n",
      "Step  25100\n",
      "Step  25200\n",
      "Step  25300\n",
      "Step  25400\n",
      "Step  25500\n",
      "Step  25600\n",
      "Step  25700\n",
      "Step  25800\n",
      "Step  25900\n",
      "Step  26000\n",
      "Step  26100\n",
      "Step  26200\n",
      "Step  26300\n",
      "Step  26400\n",
      "Step  26500\n",
      "Step  26600\n",
      "Step  26700\n",
      "Step  26800\n",
      "Step  26900\n",
      "Step  27000\n",
      "Step  27100\n",
      "Step  27200\n",
      "Step  27300\n",
      "Step  27400\n",
      "Step  27500\n",
      "Step  27600\n",
      "Step  27700\n",
      "Step  27800\n",
      "Step  27900\n",
      "Step  28000\n",
      "Step  28100\n",
      "Step  28200\n",
      "Step  28300\n",
      "Step  28400\n",
      "Step  28500\n",
      "Step  28600\n",
      "Step  28700\n",
      "Step  28800\n",
      "Step  28900\n",
      "Step  29000\n",
      "Step  29100\n",
      "Step  29200\n",
      "Step  29300\n",
      "Step  29400\n",
      "Step  29500\n",
      "Step  29600\n",
      "Step  29700\n",
      "Step  29800\n",
      "Step  29900\n",
      "Step  30000\n",
      "Step  30100\n",
      "Step  30200\n",
      "Step  30300\n",
      "Step  30400\n",
      "Step  30500\n",
      "Step  30600\n",
      "Step  30700\n",
      "Step  30800\n",
      "Step  30900\n",
      "Step  31000\n",
      "Step  31100\n",
      "Step  31200\n",
      "Step  31300\n",
      "Step  31400\n",
      "Step  31500\n",
      "Step  31600\n",
      "Step  31700\n",
      "Step  31800\n",
      "Step  31900\n",
      "Step  32000\n",
      "Step  32100\n",
      "Step  32200\n",
      "Step  32300\n",
      "Step  32400\n",
      "Step  32500\n",
      "Step  32600\n",
      "Step  32700\n",
      "Step  32800\n",
      "Step  32900\n",
      "Step  33000\n",
      "Step  33100\n",
      "Step  33200\n",
      "Step  33300\n",
      "Step  33400\n",
      "Step  33500\n",
      "Step  33600\n",
      "Step  33700\n",
      "Step  33800\n",
      "Step  33900\n",
      "Step  34000\n",
      "Step  34100\n",
      "Step  34200\n",
      "Step  34300\n",
      "Step  34400\n",
      "Step  34500\n",
      "Step  34600\n",
      "Step  34700\n",
      "Step  34800\n",
      "Step  34900\n",
      "Step  35000\n",
      "Step  35100\n",
      "Step  35200\n",
      "Step  35300\n",
      "Step  35400\n",
      "Step  35500\n",
      "Step  35600\n",
      "Step  35700\n",
      "Step  35800\n",
      "Step  35900\n",
      "Step  36000\n",
      "Step  36100\n",
      "Step  36200\n",
      "Step  36300\n",
      "Step  36400\n",
      "Step  36500\n",
      "Step  36600\n",
      "Step  36700\n",
      "Step  36800\n",
      "Step  36900\n",
      "Step  37000\n",
      "Step  37100\n",
      "Step  37200\n",
      "Step  37300\n",
      "Step  37400\n",
      "Step  37500\n",
      "Step  37600\n",
      "Step  37700\n",
      "Step  37800\n",
      "Step  37900\n",
      "Step  38000\n",
      "Step  38100\n",
      "Step  38200\n",
      "Step  38300\n",
      "Step  38400\n",
      "Step  38500\n",
      "Step  38600\n",
      "Step  38700\n",
      "Step  38800\n",
      "Step  38900\n",
      "Step  39000\n",
      "Step  39100\n",
      "Step  39200\n",
      "Step  39300\n",
      "Step  39400\n",
      "Step  39500\n",
      "Step  39600\n",
      "Step  39700\n",
      "Step  39800\n",
      "Step  39900\n",
      "Step  40000\n",
      "Step  40100\n",
      "Step  40200\n",
      "Step  40300\n",
      "Step  40400\n",
      "Step  40500\n",
      "Step  40600\n",
      "Step  40700\n",
      "Step  40800\n",
      "Step  40900\n",
      "Step  41000\n",
      "Step  41100\n",
      "Step  41200\n",
      "Step  41300\n",
      "Step  41400\n",
      "Step  41500\n",
      "Step  41600\n",
      "Step  41700\n",
      "Step  41800\n",
      "Step  41900\n",
      "Step  42000\n",
      "Step  42100\n",
      "Step  42200\n",
      "Step  42300\n",
      "Step  42400\n",
      "Step  42500\n",
      "Step  42600\n",
      "Step  42700\n",
      "Step  42800\n",
      "Step  42900\n",
      "Step  43000\n",
      "Step  43100\n",
      "Step  43200\n",
      "Step  43300\n",
      "Step  43400\n",
      "Step  43500\n",
      "Step  43600\n",
      "Step  43700\n",
      "Step  43800\n",
      "Step  43900\n",
      "Step  44000\n",
      "Step  44100\n",
      "Step  44200\n",
      "Step  44300\n",
      "Step  44400\n",
      "Step  44500\n",
      "Step  44600\n",
      "Step  44700\n",
      "Step  44800\n",
      "Step  44900\n",
      "Step  45000\n",
      "Step  45100\n",
      "Step  45200\n",
      "Step  45300\n",
      "Step  45400\n",
      "Step  45500\n",
      "Step  45600\n",
      "Step  45700\n",
      "Step  45800\n",
      "Step  45900\n",
      "Step  46000\n",
      "Step  46100\n",
      "Step  46200\n",
      "Step  46300\n",
      "Step  46400\n",
      "Step  46500\n",
      "Step  46600\n",
      "Step  46700\n",
      "Step  46800\n",
      "Step  46900\n",
      "Step  47000\n",
      "Step  47100\n",
      "Step  47200\n",
      "Step  47300\n",
      "Step  47400\n",
      "Step  47500\n",
      "Step  47600\n",
      "Step  47700\n",
      "Step  47800\n",
      "Step  47900\n",
      "Step  48000\n",
      "Step  48100\n",
      "Step  48200\n",
      "Step  48300\n",
      "Step  48400\n",
      "Step  48500\n",
      "Step  48600\n",
      "Step  48700\n",
      "Step  48800\n",
      "Step  48900\n",
      "Step  49000\n",
      "Step  49100\n",
      "Step  49200\n",
      "Step  49300\n",
      "Step  49400\n",
      "Step  49500\n",
      "Step  49600\n",
      "Step  49700\n",
      "Step  49800\n",
      "Step  49900\n",
      "Step  50000\n",
      "Step  50100\n",
      "Step  50200\n",
      "Step  50300\n",
      "Step  50400\n",
      "Step  50500\n",
      "Step  50600\n",
      "Step  50700\n",
      "Step  50800\n",
      "Step  50900\n",
      "Step  51000\n",
      "Step  51100\n",
      "Step  51200\n",
      "Step  51300\n",
      "Step  51400\n",
      "Step  51500\n",
      "Step  51600\n",
      "Step  51700\n",
      "Step  51800\n",
      "Step  51900\n",
      "Step  52000\n",
      "Step  52100\n",
      "Step  52200\n",
      "Step  52300\n",
      "Step  52400\n",
      "Step  52500\n",
      "Step  52600\n",
      "Step  52700\n",
      "Step  52800\n",
      "Step  52900\n",
      "Step  53000\n",
      "Step  53100\n",
      "Step  53200\n",
      "Step  53300\n",
      "Step  53400\n",
      "Step  53500\n",
      "Step  53600\n",
      "Step  53700\n",
      "Step  53800\n",
      "Step  53900\n",
      "Step  54000\n",
      "Step  54100\n",
      "Step  54200\n",
      "Step  54300\n",
      "Step  54400\n",
      "Step  54500\n",
      "Step  54600\n",
      "Step  54700\n",
      "Step  54800\n",
      "Step  54900\n",
      "Step  55000\n",
      "Step  55100\n",
      "Step  55200\n",
      "Step  55300\n",
      "Step  55400\n",
      "Step  55500\n",
      "Step  55600\n",
      "Step  55700\n",
      "Step  55800\n",
      "Step  55900\n",
      "Step  56000\n",
      "Step  56100\n",
      "Step  56200\n",
      "Step  56300\n",
      "Step  56400\n",
      "Step  56500\n",
      "Step  56600\n",
      "Step  56700\n",
      "Step  56800\n",
      "Step  56900\n",
      "Step  57000\n",
      "Step  57100\n",
      "Step  57200\n",
      "Step  57300\n",
      "Step  57400\n",
      "Step  57500\n",
      "Step  57600\n",
      "Step  57700\n",
      "Step  57800\n",
      "Step  57900\n",
      "Step  58000\n",
      "Step  58100\n",
      "Step  58200\n",
      "Step  58300\n",
      "Step  58400\n",
      "Step  58500\n",
      "Step  58600\n",
      "Step  58700\n",
      "Step  58800\n",
      "Step  58900\n",
      "Step  59000\n",
      "Step  59100\n",
      "Step  59200\n",
      "Step  59300\n",
      "Step  59400\n",
      "Step  59500\n",
      "Step  59600\n",
      "Step  59700\n",
      "Step  59800\n",
      "Step  59900\n",
      "Step  60000\n",
      "Step  60100\n",
      "Step  60200\n",
      "Step  60300\n",
      "Step  60400\n",
      "Step  60500\n",
      "Step  60600\n",
      "Step  60700\n",
      "Step  60800\n",
      "Step  60900\n",
      "Step  61000\n",
      "Step  61100\n",
      "Step  61200\n",
      "Step  61300\n",
      "Step  61400\n",
      "Step  61500\n",
      "Step  61600\n",
      "Step  61700\n",
      "Step  61800\n",
      "Step  61900\n",
      "Step  62000\n",
      "Step  62100\n",
      "Step  62200\n",
      "Step  62300\n",
      "Step  62400\n",
      "Step  62500\n",
      "Step  62600\n",
      "Step  62700\n",
      "Step  62800\n",
      "Step  62900\n",
      "Step  63000\n",
      "Step  63100\n",
      "Step  63200\n",
      "Step  63300\n",
      "Step  63400\n",
      "Step  63500\n",
      "Step  63600\n",
      "Step  63700\n",
      "Step  63800\n",
      "Step  63900\n",
      "Step  64000\n",
      "Step  64100\n",
      "Step  64200\n",
      "Step  64300\n",
      "Step  64400\n",
      "Step  64500\n",
      "Step  64600\n",
      "Step  64700\n",
      "Step  64800\n",
      "Step  64900\n",
      "Step  65000\n",
      "Step  65100\n",
      "Step  65200\n",
      "Step  65300\n",
      "Step  65400\n",
      "Step  65500\n",
      "Step  65600\n",
      "Step  65700\n",
      "Step  65800\n",
      "Step  65900\n",
      "Step  66000\n",
      "Step  66100\n",
      "Step  66200\n",
      "Step  66300\n",
      "Step  66400\n",
      "Step  66500\n",
      "Step  66600\n",
      "Step  66700\n",
      "Step  66800\n",
      "Step  66900\n",
      "Step  67000\n",
      "Step  67100\n",
      "Step  67200\n",
      "Step  67300\n",
      "Step  67400\n",
      "Step  67500\n",
      "Step  67600\n",
      "Step  67700\n",
      "Step  67800\n",
      "Step  67900\n",
      "Step  68000\n",
      "Step  68100\n",
      "Step  68200\n",
      "Step  68300\n",
      "Step  68400\n",
      "Step  68500\n",
      "Step  68600\n",
      "Step  68700\n",
      "Step  68800\n",
      "Step  68900\n",
      "Step  69000\n",
      "Step  69100\n",
      "Step  69200\n",
      "Step  69300\n",
      "Step  69400\n",
      "Step  69500\n",
      "Step  69600\n",
      "Step  69700\n",
      "Step  69800\n",
      "Step  69900\n",
      "Step  70000\n",
      "Step  70100\n",
      "Step  70200\n",
      "Step  70300\n",
      "Step  70400\n",
      "Step  70500\n",
      "Step  70600\n",
      "Step  70700\n",
      "Step  70800\n",
      "Step  70900\n",
      "Step  71000\n",
      "Step  71100\n",
      "Step  71200\n",
      "Step  71300\n",
      "Step  71400\n",
      "Step  71500\n",
      "Step  71600\n",
      "Step  71700\n",
      "Step  71800\n",
      "Step  71900\n",
      "Step  72000\n",
      "Step  72100\n",
      "Step  72200\n",
      "Step  72300\n",
      "Step  72400\n",
      "Step  72500\n",
      "Step  72600\n",
      "Step  72700\n",
      "Step  72800\n",
      "Step  72900\n",
      "Step  73000\n",
      "Step  73100\n",
      "Step  73200\n",
      "Step  73300\n",
      "Step  73400\n",
      "Step  73500\n",
      "Step  73600\n",
      "Step  73700\n",
      "Step  73800\n",
      "Step  73900\n",
      "Step  74000\n",
      "Step  74100\n",
      "Step  74200\n",
      "Step  74300\n",
      "Step  74400\n",
      "Step  74500\n",
      "Step  74600\n",
      "Step  74700\n",
      "Step  74800\n",
      "Step  74900\n",
      "Step  75000\n",
      "Step  75100\n",
      "Step  75200\n",
      "Step  75300\n",
      "Step  75400\n",
      "Step  75500\n",
      "Step  75600\n",
      "Step  75700\n",
      "Step  75800\n",
      "Step  75900\n",
      "Step  76000\n",
      "Step  76100\n",
      "Step  76200\n",
      "Step  76300\n",
      "Step  76400\n",
      "Step  76500\n",
      "Step  76600\n",
      "Step  76700\n",
      "Step  76800\n",
      "Step  76900\n",
      "Step  77000\n",
      "Step  77100\n",
      "Step  77200\n",
      "Step  77300\n",
      "Step  77400\n",
      "Step  77500\n",
      "Step  77600\n",
      "Step  77700\n",
      "Step  77800\n",
      "Step  77900\n",
      "Step  78000\n",
      "Step  78100\n",
      "Step  78200\n",
      "Step  78300\n",
      "Step  78400\n",
      "Step  78500\n",
      "Step  78600\n",
      "Step  78700\n",
      "Step  78800\n",
      "Step  78900\n",
      "Step  79000\n",
      "Step  79100\n",
      "Step  79200\n",
      "Step  79300\n",
      "Step  79400\n",
      "Step  79500\n",
      "Step  79600\n",
      "Step  79700\n",
      "Step  79800\n",
      "Step  79900\n",
      "Step  80000\n",
      "Step  80100\n",
      "Step  80200\n",
      "Step  80300\n",
      "Step  80400\n",
      "Step  80500\n",
      "Step  80600\n",
      "Step  80700\n",
      "Step  80800\n",
      "Step  80900\n",
      "Step  81000\n",
      "Step  81100\n",
      "Step  81200\n",
      "Step  81300\n",
      "Step  81400\n",
      "Step  81500\n",
      "Step  81600\n",
      "Step  81700\n",
      "Step  81800\n",
      "Step  81900\n",
      "Step  82000\n",
      "Step  82100\n",
      "Step  82200\n",
      "Step  82300\n",
      "Step  82400\n",
      "Step  82500\n",
      "Step  82600\n",
      "Step  82700\n",
      "Step  82800\n",
      "Step  82900\n",
      "Step  83000\n",
      "Step  83100\n",
      "Step  83200\n",
      "Step  83300\n",
      "Step  83400\n",
      "Step  83500\n",
      "Step  83600\n",
      "Step  83700\n",
      "Step  83800\n",
      "Step  83900\n",
      "Step  84000\n",
      "Step  84100\n",
      "Step  84200\n",
      "Step  84300\n",
      "Step  84400\n",
      "Step  84500\n",
      "Step  84600\n",
      "Step  84700\n",
      "Step  84800\n",
      "Step  84900\n",
      "Step  85000\n",
      "Step  85100\n",
      "Step  85200\n",
      "Step  85300\n",
      "Step  85400\n",
      "Step  85500\n",
      "Step  85600\n",
      "Step  85700\n",
      "Step  85800\n",
      "Step  85900\n",
      "Step  86000\n",
      "Step  86100\n",
      "Step  86200\n",
      "Step  86300\n",
      "Step  86400\n",
      "Step  86500\n",
      "Step  86600\n",
      "Step  86700\n",
      "Step  86800\n",
      "Step  86900\n",
      "Step  87000\n",
      "Step  87100\n",
      "Step  87200\n",
      "Step  87300\n",
      "Step  87400\n",
      "Step  87500\n",
      "Step  87600\n",
      "Step  87700\n",
      "Step  87800\n",
      "Step  87900\n",
      "Step  88000\n",
      "Step  88100\n",
      "Step  88200\n",
      "Step  88300\n",
      "Step  88400\n",
      "Step  88500\n",
      "Step  88600\n",
      "Step  88700\n",
      "Step  88800\n",
      "Step  88900\n",
      "Step  89000\n",
      "Step  89100\n",
      "Step  89200\n",
      "Step  89300\n",
      "Step  89400\n",
      "Step  89500\n",
      "Step  89600\n",
      "Step  89700\n",
      "Step  89800\n",
      "Step  89900\n",
      "Step  90000\n",
      "Step  90100\n",
      "Step  90200\n",
      "Step  90300\n",
      "Step  90400\n",
      "Step  90500\n",
      "Step  90600\n",
      "Step  90700\n",
      "Step  90800\n",
      "Step  90900\n",
      "Step  91000\n",
      "Step  91100\n",
      "Step  91200\n",
      "Step  91300\n",
      "Step  91400\n",
      "Step  91500\n",
      "Step  91600\n",
      "Step  91700\n",
      "Step  91800\n",
      "Step  91900\n",
      "Step  92000\n",
      "Step  92100\n",
      "Step  92200\n",
      "Step  92300\n",
      "Step  92400\n",
      "Step  92500\n",
      "Step  92600\n",
      "Step  92700\n",
      "Step  92800\n",
      "Step  92900\n",
      "Step  93000\n",
      "Step  93100\n",
      "Step  93200\n",
      "Step  93300\n",
      "Step  93400\n",
      "Step  93500\n",
      "Step  93600\n",
      "Step  93700\n",
      "Step  93800\n",
      "Step  93900\n",
      "Step  94000\n",
      "Step  94100\n",
      "Step  94200\n",
      "Step  94300\n",
      "Step  94400\n",
      "Step  94500\n",
      "Step  94600\n",
      "Step  94700\n",
      "Step  94800\n",
      "Step  94900\n",
      "Step  95000\n",
      "Step  95100\n",
      "Step  95200\n",
      "Step  95300\n",
      "Step  95400\n",
      "Step  95500\n",
      "Step  95600\n",
      "Step  95700\n",
      "Step  95800\n",
      "Step  95900\n",
      "Step  96000\n",
      "Step  96100\n",
      "Step  96200\n",
      "Step  96300\n",
      "Step  96400\n",
      "Step  96500\n",
      "Step  96600\n",
      "Step  96700\n",
      "Step  96800\n",
      "Step  96900\n",
      "Step  97000\n",
      "Step  97100\n",
      "Step  97200\n",
      "Step  97300\n",
      "Step  97400\n",
      "Step  97500\n",
      "Step  97600\n",
      "Step  97700\n",
      "Step  97800\n",
      "Step  97900\n",
      "Step  98000\n",
      "Step  98100\n",
      "Step  98200\n",
      "Step  98300\n",
      "Step  98400\n",
      "Step  98500\n",
      "Step  98600\n",
      "Step  98700\n",
      "Step  98800\n",
      "Step  98900\n",
      "Step  99000\n",
      "Step  99100\n",
      "Step  99200\n",
      "Step  99300\n",
      "Step  99400\n",
      "Step  99500\n",
      "Step  99600\n",
      "Step  99700\n",
      "Step  99800\n",
      "Step  99900\n",
      "(-1195.24424, 1442980.4, 554.05722, 325367.6744, 100000)\n"
     ]
    }
   ],
   "source": [
    "%run ILfinalframe.py"
   ]
  },
  {
   "cell_type": "code",
   "execution_count": 13,
   "metadata": {},
   "outputs": [],
   "source": [
    "# 8x8 T=1"
   ]
  },
  {
   "cell_type": "markdown",
   "metadata": {},
   "source": [
    "<div>\n",
    "<img src=\"task%205a%208x8%20T=1.png\" width=\"400\"/>\n",
    "</div>"
   ]
  },
  {
   "cell_type": "code",
   "execution_count": 5,
   "metadata": {},
   "outputs": [],
   "source": [
    "import matplotlib.pyplot as plt\n",
    "from scipy.optimize import curve_fit"
   ]
  },
  {
   "cell_type": "markdown",
   "metadata": {},
   "source": [
    "<div>\n",
    "<img src=\"task%205a%20meta%20stable%20state.png\" width=\"400\"/>\n",
    "</div>"
   ]
  },
  {
   "cell_type": "code",
   "execution_count": 37,
   "metadata": {},
   "outputs": [],
   "source": [
    "# 32x32 in a meta stable state \n",
    "# interface formed - increases entropy\n",
    "# will be very hard to get out this local minima at this temperature (1K)\n",
    "# as will need to get rid of interface and flip back many spins which is \n",
    "# entropically unfavourable. will need to calculate the free energy to \n",
    "# properly understand.\n",
    "# also interface is not curved, therefore not as stable as can be"
   ]
  },
  {
   "cell_type": "code",
   "execution_count": 646,
   "metadata": {},
   "outputs": [],
   "source": [
    "grid = np.array([8,10,12,14,16,18,20, 25, 32])\n",
    "steps = np.array([600, 950, 1500, 4600, 10000, 14000, 25000, 50000, 150000])\n",
    "steps2 = np.array([300,900,2800,4200,10000,14400,23000, 45000, 160000])\n",
    "steps3 = np.array([786, 1470, 2000,4200,10600,22000,26000, 40000, 120000])\n",
    "steps_adj = steps/grid**2\n",
    "steps2_adj = steps2/grid**2\n",
    "steps3_adj = steps3/grid**2\n",
    "stepsavg = (steps+steps2+steps3)/3\n",
    "steps_grid_adjusted = stepsavg/grid**2\n",
    "error_steps = []\n",
    "error_steps_grid_adjusted = []\n",
    "\n",
    "for i in range(len(steps)):\n",
    "    arr = np.array([steps[i], steps2[i], steps3[i]])\n",
    "    error_steps.append(np.std(arr)/np.sqrt(3))\n",
    "    \n",
    "for i in range(len(steps_grid_adjusted)):\n",
    "    arr = np.array([steps_adj[i], steps2_adj[i], steps3_adj[i]])\n",
    "    error_steps_grid_adjusted.append(np.std(arr)/np.sqrt(3))\n",
    "    "
   ]
  },
  {
   "cell_type": "markdown",
   "metadata": {},
   "source": [
    "<font color='red'>investigate different temperatures</font>"
   ]
  },
  {
   "cell_type": "code",
   "execution_count": 777,
   "metadata": {},
   "outputs": [
    {
     "data": {
      "text/plain": [
       "<matplotlib.legend.Legend at 0x7f76c4551220>"
      ]
     },
     "execution_count": 777,
     "metadata": {},
     "output_type": "execute_result"
    }
   ],
   "source": [
    "# def f(x, a, b):\n",
    "#     return a + b*x**2\n",
    "# def f(x, a, b, c):\n",
    "#     return a + b*np.exp(c*x)\n",
    "def f(x, a, b, n):\n",
    "    return a + b*x**n\n",
    "\n",
    "def g(x):\n",
    "    return 10**(-0.52)*x**4.11\n",
    "\n",
    "popt, pcov = curve_fit(f, grid, stepsavg)\n",
    "\n",
    "plt.errorbar(grid, stepsavg, yerr=error_steps, fmt='o', linestyle='-')\n",
    "#plt.plot(grid, stepsavg, ls = '', marker ='^')\n",
    "plt.plot(np.linspace(8,32,1000), f(np.linspace(8,32,1000), *popt)+15000, label = 'y = {:.2f} + {:.2f}x^{:.2f}'.format(popt[0]+15000, popt[1], popt[2]))\n",
    "plt.plot(np.linspace(8,32,1000), g(np.linspace(8,32,1000)))\n",
    "plt.xlabel('Grid size')\n",
    "plt.ylabel('Steps to reach equilibrium')\n",
    "plt.legend(fontsize=12, loc=2)\n"
   ]
  },
  {
   "cell_type": "code",
   "execution_count": 679,
   "metadata": {},
   "outputs": [
    {
     "data": {
      "text/plain": [
       "0.3019951720402016"
      ]
     },
     "execution_count": 679,
     "metadata": {},
     "output_type": "execute_result"
    }
   ],
   "source": [
    "10**(-0.52)"
   ]
  },
  {
   "cell_type": "code",
   "execution_count": 165,
   "metadata": {},
   "outputs": [
    {
     "data": {
      "text/plain": [
       "[1.806203142414127,\n",
       " 1.4879765031995882,\n",
       " 2.1466709480314123,\n",
       " 0.5554398509712426,\n",
       " 0.637887953849786,\n",
       " 6.558591543419437,\n",
       " 1.8002057495577393,\n",
       " 3.771236166328254,\n",
       " 9.583073856692543]"
      ]
     },
     "execution_count": 165,
     "metadata": {},
     "output_type": "execute_result"
    }
   ],
   "source": [
    "error_steps_grid_adjusted"
   ]
  },
  {
   "cell_type": "code",
   "execution_count": 647,
   "metadata": {},
   "outputs": [],
   "source": [
    "error_log = []\n",
    "for i in range(len(steps_grid_adjusted)):\n",
    "    arr = np.array([steps_adj[i], steps2_adj[i], steps3_adj[i]])\n",
    "    error_log.append(np.std(arr)/np.average(arr))\n",
    "    \n",
    "# error propagation for logs is std/avg"
   ]
  },
  {
   "cell_type": "code",
   "execution_count": 649,
   "metadata": {},
   "outputs": [],
   "source": [
    "error_log = []\n",
    "for i in range(len(steps)):\n",
    "    arr = np.array([steps[i], steps2[i], steps3[i]])\n",
    "    error_log.append(np.std(arr)/np.average(arr))"
   ]
  },
  {
   "cell_type": "code",
   "execution_count": null,
   "metadata": {},
   "outputs": [],
   "source": []
  },
  {
   "cell_type": "code",
   "execution_count": 773,
   "metadata": {},
   "outputs": [
    {
     "data": {
      "text/plain": [
       "<matplotlib.legend.Legend at 0x7f768401dd00>"
      ]
     },
     "execution_count": 773,
     "metadata": {},
     "output_type": "execute_result"
    }
   ],
   "source": [
    "def f(x,m,c):\n",
    "    return m*x + c\n",
    "\n",
    "popt, pcov = curve_fit(f, np.log10(grid), np.log10(stepsavg))\n",
    "\n",
    "plt.errorbar(np.log10(grid), np.log10(stepsavg), yerr=error_log, fmt='o', linestyle='')\n",
    "#plt.plot(grid, steps_grid_adjusted, ls = '', marker ='^')\n",
    "plt.plot(np.linspace(0.9,1.5,1000), f(np.linspace(0.9,1.5,1000), popt[0], popt[1]+0.5), label = 'y={:.2f}x + {:.2f}'.format(popt[0], popt[1]+0.5))\n",
    "#plt.plot(np.linspace(2,3.5,1000), f(np.linspace(2,3.5,1000), popt[0], popt[1]+0.45), label = 'y={:.2f}x + {:.2f}'.format(popt[0], popt[1]+0.5))\n",
    "plt.xlabel('log Grid size')\n",
    "plt.ylabel('log Steps to reach equilibrium')\n",
    "plt.legend(fontsize=15)\n"
   ]
  },
  {
   "cell_type": "code",
   "execution_count": 774,
   "metadata": {},
   "outputs": [
    {
     "data": {
      "text/plain": [
       "1558.6081347211295"
      ]
     },
     "execution_count": 774,
     "metadata": {},
     "output_type": "execute_result"
    }
   ],
   "source": [
    "# define an equation to calculate number of steps to reach equilibrium as a function of grid size\n",
    "def steps_to_equilibrium(grid_size, T):\n",
    "    return 10**(popt[1]+0.5)*(grid_size**popt[0])\n",
    "steps_to_equilibrium(8,1)"
   ]
  },
  {
   "cell_type": "markdown",
   "metadata": {},
   "source": [
    "<font color='red'> need to do 10^(popt[0]*x + popt[1]+0.45) when adding</font>"
   ]
  },
  {
   "cell_type": "code",
   "execution_count": 767,
   "metadata": {},
   "outputs": [],
   "source": [
    "grid_mutli = np.array([4,8,16,32])\n",
    "T = np.array([0.5,1,1.5])\n",
    "\n",
    "steps = np.array([[50, 400, 6000, 175000],\n",
    "                 [50,600, 10000, 150000], \n",
    "                 [54,800, 12000, 170000]])\n",
    "steps2 = np.array([[65, 600, 9000, 150000],\n",
    "                  [43, 300,10000, 160000],\n",
    "                  [42,1000, 14000, 150000]])\n",
    "steps3 = np.array([[47, 300, 8500, 75000],\n",
    "                  [40, 786,10600, 120000],\n",
    "                  [55,1800, 13000, 200000]])"
   ]
  },
  {
   "cell_type": "code",
   "execution_count": 768,
   "metadata": {},
   "outputs": [],
   "source": [
    "steps_0_5_avg = (steps[0] + steps2[0] + steps2[0])/(3*grid_mutli)\n",
    "steps_1_avg = (steps[1] + steps2[1] + steps2[1])/(3*grid_mutli)\n",
    "steps_1_5_avg = (steps[2] + steps2[2] + steps2[2])/(3*grid_mutli)\n",
    "\n",
    "steps_0_5_error = []\n",
    "steps_1_error = []\n",
    "steps_1_5_error = []\n",
    "\n",
    "#logged error propagation\n",
    "\n",
    "for i in range(len(steps[0])):\n",
    "    arr = np.array([steps[0][i], steps2[0][i], steps3[0][i]])\n",
    "    steps_0_5_error.append(np.std(arr)/np.average(arr))\n",
    "for i in range(len(steps[1])):\n",
    "    arr = np.array([steps[1][i], steps2[1][i], steps3[1][i]])\n",
    "    steps_1_error.append(np.std(arr)/np.average(arr))\n",
    "for i in range(len(steps[2])):\n",
    "    arr = np.array([steps[2][i], steps2[2][i], steps3[2][i]])\n",
    "    steps_1_5_error.append(np.std(arr)/np.average(arr))\n",
    "    \n"
   ]
  },
  {
   "cell_type": "code",
   "execution_count": 769,
   "metadata": {},
   "outputs": [
    {
     "data": {
      "text/plain": [
       "[0.14581496062984836,\n",
       " 0.2878197989826109,\n",
       " 0.1675320824257832,\n",
       " 0.31868871959954903]"
      ]
     },
     "execution_count": 769,
     "metadata": {},
     "output_type": "execute_result"
    }
   ],
   "source": [
    "steps_0_5_error"
   ]
  },
  {
   "cell_type": "code",
   "execution_count": 772,
   "metadata": {},
   "outputs": [
    {
     "data": {
      "text/plain": [
       "<matplotlib.legend.Legend at 0x7f76c0ba3c40>"
      ]
     },
     "execution_count": 772,
     "metadata": {},
     "output_type": "execute_result"
    }
   ],
   "source": [
    "def f(x,m,c):\n",
    "    return m*x + c\n",
    "\n",
    "popt0, pcov0 = curve_fit(f, np.log10(grid_mutli), np.log10(steps_0_5_avg))\n",
    "popt1, pcov1 = curve_fit(f, np.log10(grid_mutli), np.log10(steps_1_avg))\n",
    "popt2, pcov2 = curve_fit(f, np.log10(grid_mutli), np.log10(steps_1_5_avg))\n",
    "\n",
    "plt.errorbar(np.log10(grid_mutli), np.log10(steps_0_5_avg), yerr=steps_0_5_error, fmt='o', linestyle='', c='k')\n",
    "plt.plot(np.linspace(0.6,1.5,1000), f(np.linspace(0.6,1.5,1000), popt0[0], popt0[1]), label = 'T = 0.5 K', c='k')\n",
    "\n",
    "plt.errorbar(np.log10(grid_mutli), np.log10(steps_1_avg), yerr=steps_1_error, fmt='o', linestyle='', c='orange')\n",
    "plt.plot(np.linspace(0.6,1.5,1000), f(np.linspace(0.6,1.5,1000), popt1[0], popt1[1]), label = 'T = 1 K', c='orange')\n",
    "\n",
    "plt.errorbar(np.log10(grid_mutli), np.log10(steps_1_5_avg), yerr=steps_1_5_error, fmt='o', linestyle='', c='green')\n",
    "plt.plot(np.linspace(0.6,1.5,1000), f(np.linspace(0.6,1.5,1000), popt2[0], popt2[1]), label = 'T = 1.5 K', c='green')\n",
    "\n",
    "plt.xlabel('log Grid size')\n",
    "plt.ylabel('log Steps to reach equilibrium')\n",
    "plt.legend(fontsize=15)"
   ]
  },
  {
   "cell_type": "markdown",
   "metadata": {},
   "source": [
    "<div>\n",
    "<img src=\"task%205a%20different%20T.png\" width=\"400\"/>\n",
    "</div>"
   ]
  },
  {
   "cell_type": "code",
   "execution_count": 771,
   "metadata": {},
   "outputs": [
    {
     "data": {
      "text/plain": [
       "<matplotlib.legend.Legend at 0x7f7683ff6e20>"
      ]
     },
     "execution_count": 771,
     "metadata": {},
     "output_type": "execute_result"
    }
   ],
   "source": [
    "def f(x, a, b, n):\n",
    "    return a + b*x**n\n",
    "\n",
    "popt0, pcov0 = curve_fit(f, grid_mutli, steps_0_5_avg)\n",
    "popt1, pcov1 = curve_fit(f, grid_mutli, steps_1_avg)\n",
    "popt2, pcov2 = curve_fit(f, grid_mutli, steps_1_5_avg)\n",
    "\n",
    "plt.errorbar(grid_mutli, steps_0_5_avg, yerr=steps_0_5_error, fmt='o', linestyle='', c='k')\n",
    "plt.plot(np.linspace(2,32,1000), f(np.linspace(2,32,1000), popt0[0], popt0[1], popt0[2]), label = 'T = 0.5 K', c='k')\n",
    "\n",
    "plt.errorbar(grid_mutli, steps_1_avg, yerr=steps_1_error, fmt='o', linestyle='', c='orange')\n",
    "plt.plot(np.linspace(2,32,1000), f(np.linspace(2,32,1000), popt1[0], popt1[1], popt1[2]), label = 'T = 1 K', c='orange')\n",
    "\n",
    "plt.errorbar(grid_mutli, steps_1_5_avg, yerr=steps_1_5_error, fmt='o', linestyle='', c='green')\n",
    "plt.plot(np.linspace(2,32,1000), f(np.linspace(2,32,1000), popt2[0], popt2[1], popt2[2]), label = 'T = 1.5 K', c='green')\n",
    "\n",
    "plt.xlabel('Grid size')\n",
    "plt.ylabel('Steps to reach equilibrium')\n",
    "plt.legend(fontsize=15)"
   ]
  },
  {
   "cell_type": "code",
   "execution_count": null,
   "metadata": {},
   "outputs": [],
   "source": [
    "# number of steps to reach equilibrium, where one step is when every spin in \n",
    "# the lattice has been flipped - a Monte Carlo cycle (individual ones are trial moves)"
   ]
  },
  {
   "cell_type": "code",
   "execution_count": 168,
   "metadata": {},
   "outputs": [],
   "source": [
    "# shifted up so equilibrium will definitely have been reached"
   ]
  },
  {
   "cell_type": "code",
   "execution_count": 18,
   "metadata": {},
   "outputs": [
    {
     "data": {
      "text/plain": [
       "157287"
      ]
     },
     "execution_count": 18,
     "metadata": {},
     "output_type": "execute_result"
    }
   ],
   "source": [
    "cutoff = int(f(32, popt[0], popt[1], popt[2])) + 15000\n",
    "cutoff"
   ]
  },
  {
   "cell_type": "markdown",
   "metadata": {},
   "source": [
    "<div>\n",
    "<img src=\"task%205a%20quadratic.png\" width=\"400\"/>\n",
    "</div>"
   ]
  },
  {
   "cell_type": "code",
   "execution_count": null,
   "metadata": {},
   "outputs": [],
   "source": [
    "# cutoff is defined in program as a shifted version of the function used to fit\n",
    "# the curve. this is to make sure the no steps vs gridsize lies completely under\n",
    "# this curve\n",
    "# new avg values now recorded after the cuttoff (when at equilibrium)"
   ]
  },
  {
   "cell_type": "code",
   "execution_count": 101,
   "metadata": {},
   "outputs": [],
   "source": [
    "# at high temps, the average magnetism is zero therefore the system is disordered and above\n",
    "# the curie T"
   ]
  },
  {
   "cell_type": "markdown",
   "metadata": {},
   "source": [
    "### Task 5b"
   ]
  },
  {
   "cell_type": "markdown",
   "metadata": {},
   "source": [
    "TASK 5b: Use ILtemperaturerange.py to plot the average energy and magnetisation for each temperature, with error bars, for an 8\\times 8 lattice. Use your intuition and results from the script ILfinalframe.py to estimate how many cycles each simulation should be. The temperature range 0.25 to 5.0 is sufficient. Use as many temperature points as you feel necessary to illustrate the trend, but do not use a temperature spacing larger than 0.5. The NumPy function savetxt() stores your array of output data on disk — you will need it later. Save the file as 8x8.dat so that you know which lattice size it came from."
   ]
  },
  {
   "cell_type": "code",
   "execution_count": 10,
   "metadata": {},
   "outputs": [],
   "source": [
    "# 8x8 reaches equilibrium in under 1000 steps therefore dont need many cycles\n",
    "# T range 0.5-5 0.25 incriment, 20000 runs"
   ]
  },
  {
   "cell_type": "markdown",
   "metadata": {},
   "source": [
    "<div>\n",
    "<img src=\"task%205b%208x8%200.5-5.0%200.1.png\" width=\"400\"/>\n",
    "</div>"
   ]
  },
  {
   "cell_type": "code",
   "execution_count": 667,
   "metadata": {},
   "outputs": [],
   "source": [
    "T = np.loadtxt(\"8x8.dat\")[:,0]\n",
    "E_spin = (np.loadtxt(\"8x8.dat\")[:,1] + np.loadtxt(\"8x8_2.dat\")[:,1] + np.loadtxt(\"8x8_3.dat\")[:,1])/(3*64)\n",
    "M_spin =  (np.loadtxt(\"8x8.dat\")[:,3] + np.loadtxt(\"8x8_2.dat\")[:,3] + np.loadtxt(\"8x8_3.dat\")[:,3])/(3*64)\n",
    "\n",
    "E_spin_error = []\n",
    "for i in range(len(np.loadtxt(\"8x8.dat\")[:,1])):\n",
    "    arr = np.array([np.loadtxt(\"8x8.dat\")[:,1][i], np.loadtxt(\"8x8_2.dat\")[:,1][i], np.loadtxt(\"8x8_3.dat\")[:,1][i]])/64\n",
    "    E_spin_error.append(np.std(arr)/np.sqrt(3))\n",
    "    \n",
    "M_spin_error = []\n",
    "for i in range(len(np.loadtxt(\"8x8.dat\")[:,3])):\n",
    "    arr = np.array([np.loadtxt(\"8x8.dat\")[:,3][i], np.loadtxt(\"8x8_2.dat\")[:,3][i], np.loadtxt(\"8x8_3.dat\")[:,3][i]])/64\n",
    "    M_spin_error.append(np.std(arr)/np.sqrt(3))\n",
    "    "
   ]
  },
  {
   "cell_type": "code",
   "execution_count": 147,
   "metadata": {},
   "outputs": [
    {
     "name": "stderr",
     "output_type": "stream",
     "text": [
      "No handles with labels found to put in legend.\n"
     ]
    },
    {
     "data": {
      "text/plain": [
       "<matplotlib.legend.Legend at 0x7f7852c29ac0>"
      ]
     },
     "execution_count": 147,
     "metadata": {},
     "output_type": "execute_result"
    }
   ],
   "source": [
    "\n",
    "plt.errorbar(T, E_spin, yerr=E_spin_error, fmt='o', linestyle='-')\n",
    "plt.xlabel('T/K')\n",
    "plt.ylabel('Energy per spin')\n",
    "plt.legend(fontsize=15)"
   ]
  },
  {
   "cell_type": "code",
   "execution_count": 69,
   "metadata": {},
   "outputs": [],
   "source": [
    "# error bars slightly larger at phase transiton"
   ]
  },
  {
   "cell_type": "code",
   "execution_count": 78,
   "metadata": {},
   "outputs": [
    {
     "name": "stderr",
     "output_type": "stream",
     "text": [
      "No handles with labels found to put in legend.\n"
     ]
    },
    {
     "data": {
      "text/plain": [
       "<matplotlib.legend.Legend at 0x7f7840ae1610>"
      ]
     },
     "execution_count": 78,
     "metadata": {},
     "output_type": "execute_result"
    }
   ],
   "source": [
    "plt.errorbar(T, M_spin, yerr=M_spin_error, fmt='o', linestyle='-')\n",
    "plt.xlabel('T/K')\n",
    "plt.ylabel('Magnetisation per spin')\n",
    "plt.legend(fontsize=15)"
   ]
  },
  {
   "cell_type": "code",
   "execution_count": 669,
   "metadata": {},
   "outputs": [
    {
     "data": {
      "text/plain": [
       "Text(0, 0.5, 'Magnetisation per spin')"
      ]
     },
     "execution_count": 669,
     "metadata": {},
     "output_type": "execute_result"
    }
   ],
   "source": [
    "fig, axs = plt.subplots(2)\n",
    "axs[0].errorbar(T, E_spin, yerr=E_spin_error, fmt='.', linestyle='-')\n",
    "axs[1].errorbar(T, M_spin, yerr=M_spin_error, fmt='.', linestyle='-')\n",
    "axs[1].set_ylim(-1.5,1.5)\n",
    "axs[1].set_xlabel('Temp/K')\n",
    "axs[0].set_ylabel('Energy per spin')\n",
    "axs[1].set_ylabel('Magnetisation per spin')"
   ]
  },
  {
   "cell_type": "code",
   "execution_count": 76,
   "metadata": {},
   "outputs": [],
   "source": [
    "# large errors around Tc\n",
    "# magnetisation has larger errors as it fluctuates more \n",
    "# many microstates with differtent M for the same E"
   ]
  },
  {
   "cell_type": "code",
   "execution_count": 19,
   "metadata": {},
   "outputs": [],
   "source": [
    "# below curie T all spins aligned therefore magnetisation per spin  = 1 \n",
    "# (total spin/N)\n",
    "# above Tc the magnetic spins are randomly aligned therefore their sum = 0\n",
    "# magnetisation oscillates around zero\n",
    "# phase transition observed"
   ]
  },
  {
   "cell_type": "code",
   "execution_count": 31,
   "metadata": {},
   "outputs": [],
   "source": [
    "# magnetism rapidly drops\n",
    "# this is what the curie curve is meant to look like"
   ]
  },
  {
   "cell_type": "markdown",
   "metadata": {},
   "source": [
    "### Task 6"
   ]
  },
  {
   "cell_type": "markdown",
   "metadata": {},
   "source": [
    "TASK 6: Repeat the final task of the previous section for the following lattice sizes: 2x2, 4x4, 8x8, 16x16, 32x32. Make sure that you name each datafile that your produce after the corresponding lattice size! Write a Python script to make a plot showing the energy per spin versus temperature for each of your lattice sizes. Hint: the NumPy loadtxt function is the reverse of the savetxt function, and can be used to read your previously saved files into the script. Repeat this for the magnetisation. As before, use the plot controls to save your a PNG image of your plot and attach this to the report. How big a lattice do you think is big enough to capture the long range correlations?"
   ]
  },
  {
   "cell_type": "code",
   "execution_count": null,
   "metadata": {},
   "outputs": [],
   "source": [
    "# doing 3 repeats for each with 100k cycles for 8x8"
   ]
  },
  {
   "cell_type": "code",
   "execution_count": 29,
   "metadata": {},
   "outputs": [],
   "source": [
    "# increasing size to correctly model long range fluctuations"
   ]
  },
  {
   "cell_type": "code",
   "execution_count": 20,
   "metadata": {},
   "outputs": [],
   "source": [
    "# 2x2 4x4"
   ]
  },
  {
   "cell_type": "markdown",
   "metadata": {},
   "source": [
    "<div style=\"display: flex\">\n",
    "<img src=\"task%206%202x2.png\" width=\"300\"/>\n",
    "<img src=\"task%206%204x4.png\" width=\"300\"/>\n",
    "</div>"
   ]
  },
  {
   "cell_type": "code",
   "execution_count": 785,
   "metadata": {},
   "outputs": [],
   "source": [
    "T = np.loadtxt(\"2x2.dat\")[:,0]\n",
    "E_spin2 = np.loadtxt(\"2x2.dat\")[:,1]/2**2\n",
    "M_spin2 =  np.loadtxt(\"2x2.dat\")[:,3]/2**2\n",
    "E_spin4 = np.loadtxt(\"4x4.dat\")[:,1]/4**2\n",
    "M_spin4 =  np.loadtxt(\"4x4.dat\")[:,3]/4**2\n",
    "E_spin8 = np.loadtxt(\"8x8.dat\")[:,1]/8**2\n",
    "M_spin8 =  np.loadtxt(\"8x8.dat\")[:,3]/8**2\n",
    "E_spin16 = np.loadtxt(\"16x16.dat\")[:,1]/16**2\n",
    "M_spin16 =  np.loadtxt(\"16x16.dat\")[:,3]/16**2\n",
    "E_spin32 = np.loadtxt(\"32x32.dat\")[:,1]/32**2\n",
    "M_spin32 =  np.loadtxt(\"32x32.dat\")[:,3]/32**2\n"
   ]
  },
  {
   "cell_type": "code",
   "execution_count": 225,
   "metadata": {},
   "outputs": [
    {
     "data": {
      "text/plain": [
       "Text(0, 0.5, 'Magnetisation per spin')"
      ]
     },
     "execution_count": 225,
     "metadata": {},
     "output_type": "execute_result"
    }
   ],
   "source": [
    "fig, axs = plt.subplots(2)\n",
    "axs[0].plot(T, E_spin2, label ='2x2')\n",
    "axs[0].plot(T, E_spin4, label ='4x4')\n",
    "axs[0].plot(T, E_spin8, label ='8x8')\n",
    "axs[0].plot(T, E_spin16, label ='16x16')\n",
    "axs[0].plot(T, E_spin32, label ='32x32')\n",
    "axs[0].set_ylim(-2,2)\n",
    "axs[0].set_xlabel('Temp/K')\n",
    "axs[0].set_ylabel('Energy per spin')\n",
    "axs[0].legend()\n",
    "\n",
    "axs[1].plot(T, M_spin2, label ='2x2')\n",
    "axs[1].plot(T, M_spin4, label ='4x4')\n",
    "axs[1].plot(T, M_spin8, label ='8x8')\n",
    "axs[1].plot(T, M_spin16, label ='16x16')\n",
    "axs[1].plot(T, M_spin32, label ='32x32')\n",
    "axs[1].set_ylim(-1.5,1.5)\n",
    "axs[1].set_xlabel('Temp/K')\n",
    "axs[1].set_ylabel('Magnetisation per spin')\n",
    "#axs[1].legend(fontsize = 5)\n",
    "# legend applies to both graphs"
   ]
  },
  {
   "cell_type": "code",
   "execution_count": 99,
   "metadata": {},
   "outputs": [],
   "source": [
    "# legend applies to both graphs\n",
    "# finite size effect - \n",
    "# converges to a value \n",
    "# discontinuity at the curie temp\n",
    "# at phase transition correlation length is inifnite\n",
    "#"
   ]
  },
  {
   "cell_type": "code",
   "execution_count": 782,
   "metadata": {},
   "outputs": [
    {
     "data": {
      "text/plain": [
       "array([-8.00034223, -8.00034223, -8.00034223, -7.99933017, -7.99680002,\n",
       "       -7.98212513, -7.9699804 , -7.90116025, -7.92696781, -7.82879789,\n",
       "       -7.74074858, -7.70886866, -7.64561485, -7.41891318, -7.36527395,\n",
       "       -7.14464465, -7.06570389, -6.89264146, -6.76512178, -6.56827591,\n",
       "       -6.52172111, -6.12246304, -5.9989916 , -6.02530518, -5.65489086,\n",
       "       -5.63464964, -5.51472041, -5.19136692, -5.0517025 , -5.04056983,\n",
       "       -4.83360335, -4.84169984, -4.6402997 , -4.57299764, -4.46369505,\n",
       "       -4.3847543 , -4.11554607, -4.01838821, -3.95564043, -4.04773798,\n",
       "       -3.77448151, -3.77245739, -3.69908297, -3.54929794, -3.46630894])"
      ]
     },
     "execution_count": 782,
     "metadata": {},
     "output_type": "execute_result"
    }
   ],
   "source": [
    "np.loadtxt(f\"2x2.dat\")[:,1]"
   ]
  },
  {
   "cell_type": "code",
   "execution_count": 786,
   "metadata": {},
   "outputs": [],
   "source": [
    "E_avg_list = np.zeros((5,45))\n",
    "M_avg_list = np.zeros((5,45))\n",
    "\n",
    "E_error = np.zeros((5,45))\n",
    "M_error = np.zeros((5,45))\n",
    "    \n",
    "for i in [2,4,8,16,32]:\n",
    "    file1 = np.loadtxt(f\"{i}x{i}.dat\")\n",
    "    file2 = np.loadtxt(f\"{i}x{i}_2.dat\")\n",
    "    file3 = np.loadtxt(f\"{i}x{i}_3.dat\")\n",
    "    \n",
    "    #var_name_Eerror = f\"E_spin_error{i}\"\n",
    "    #locals()[var_name_Eerror] = []\n",
    "    error_E = np.zeros((45))\n",
    "    for j in range(len(file1[:,1])):\n",
    "        arr = np.array([file1[:,1][j], file2[:,1][j], file3[:,1][j]])/i**2\n",
    "        error_E[j] = np.std(arr)/np.sqrt(3)\n",
    "        #locals()[var_name_Eerror].append(np.std(arr)/np.sqrt(3))\n",
    "    \n",
    "    #var_name_Merror = f\"M_spin_error{i}\"\n",
    "    #locals()[var_name_Merror] = []\n",
    "    error_M = np.zeros((45))\n",
    "    for j in range(len(file1[:,1])):\n",
    "        arr = np.array([file1[:,3][j], file2[:,3][j], file3[:,3][j]])/i**2\n",
    "        error_M[j] = np.std(arr)/np.sqrt(3)\n",
    "        #locals()[var_name_Merror].append(np.std(arr)/np.sqrt(3))\n",
    "        \n",
    "    if i == 2:\n",
    "        E_avg_list[0] = (file1[:,1] + file2[:,1] + file3[:,1])/(3*2**2)\n",
    "        M_avg_list[0] = (file1[:,3] + file2[:,3] + file3[:,3])/(3*2**2)\n",
    "        E_error[0] = error_E\n",
    "        M_error[0] = error_M\n",
    "    if i == 4:\n",
    "        E_avg_list[1] = (file1[:,1] + file2[:,1] + file3[:,1])/(3*4**2)\n",
    "        M_avg_list[1] = (file1[:,3] + file2[:,3] + file3[:,3])/(3*4**2)\n",
    "        E_error[1] = error_E\n",
    "        M_error[1] = error_M\n",
    "    if i == 8:\n",
    "        E_avg_list[2] = (file1[:,1] + file2[:,1] + file3[:,1])/(3*64)\n",
    "        M_avg_list[2] = (file1[:,3] + file2[:,3] + file3[:,3])/(3*64)\n",
    "        E_error[2] = error_E\n",
    "        M_error[2] = error_M\n",
    "    if i == 16:\n",
    "        E_avg_list[3] = (file1[:,1] + file2[:,1] + file3[:,1])/(3*16**2)\n",
    "        M_avg_list[3] = (file1[:,3] + file2[:,3] + file3[:,3])/(3*16**2)\n",
    "        E_error[3] = error_E\n",
    "        M_error[3] = error_M\n",
    "    if i == 32:\n",
    "        E_avg_list[4] = (file1[:,1] + file2[:,1] + file3[:,1])/(3*32**2)\n",
    "        M_avg_list[4] = (file1[:,3] + file2[:,3] + file3[:,3])/(3*32**2)\n",
    "        E_error[4] = error_E\n",
    "        M_error[4] = error_M\n",
    "        "
   ]
  },
  {
   "cell_type": "code",
   "execution_count": 787,
   "metadata": {},
   "outputs": [],
   "source": [
    "#fig, axs = plt.subplots(2)\n",
    "for i in range(len(E_avg_list)):\n",
    "    plt.plot(T, E_avg_list[i], label =f'{2**(i+1)}x{2**(i+1)}')\n",
    "    plt.errorbar(T, E_avg_list[i], yerr=E_error[i], fmt='o', linestyle='-')\n",
    "\n",
    "    "
   ]
  },
  {
   "cell_type": "code",
   "execution_count": 788,
   "metadata": {},
   "outputs": [],
   "source": [
    "for i in range(len(E_avg_list)):\n",
    "    plt.plot(T, M_avg_list[i], label =f'{2**(i+1)}x{2**(i+1)}')\n",
    "    plt.errorbar(T, M_avg_list[i], yerr=M_error[i], fmt='o', linestyle='-')"
   ]
  },
  {
   "cell_type": "code",
   "execution_count": 789,
   "metadata": {},
   "outputs": [
    {
     "data": {
      "text/plain": [
       "<matplotlib.legend.Legend at 0x7f7707cfda00>"
      ]
     },
     "execution_count": 789,
     "metadata": {},
     "output_type": "execute_result"
    }
   ],
   "source": [
    "fig, axs = plt.subplots(2)\n",
    "for i in range(len(E_avg_list)):\n",
    "    #axs[0].plot(T, E_avg_list[i], label =f'{2**(i+1)}x{2**(i+1)}')\n",
    "    axs[0].errorbar(T, E_avg_list[i], yerr=E_error[i], fmt='.', linestyle='-', label =f'{2**(i+1)}x{2**(i+1)}')\n",
    "    #axs[1].plot(T, M_avg_list[i], label =f'{2**(i+1)}x{2**(i+1)}')\n",
    "    axs[1].errorbar(T, M_avg_list[i], yerr=M_error[i], fmt='.', linestyle='-')\n",
    "    \n",
    "axs[0].set_ylim(-2.5,0)\n",
    "axs[1].set_ylim(-1.2,1.2)\n",
    "axs[1].set_xlabel('Temp/K')\n",
    "axs[0].set_ylabel('Energy per spin')\n",
    "axs[1].set_ylabel('Magnetisation per spin')\n",
    "axs[0].legend()"
   ]
  },
  {
   "cell_type": "markdown",
   "metadata": {},
   "source": [
    "<div>\n",
    "<img src=\"task%206%20with%20errors.png\" width=\"400\"/>\n",
    "</div>"
   ]
  },
  {
   "cell_type": "code",
   "execution_count": null,
   "metadata": {},
   "outputs": [],
   "source": [
    "plt.errorbar(T, E_avg_list, yerr=E_error, fmt='o', linestyle='-')\n",
    "plt.xlabel('T/K')\n",
    "plt.ylabel('Energy per spin')\n",
    "plt.legend(fontsize=15)"
   ]
  },
  {
   "cell_type": "code",
   "execution_count": 21,
   "metadata": {},
   "outputs": [],
   "source": [
    "# 16x16 32x32 (0.5-5 0.25)"
   ]
  },
  {
   "cell_type": "markdown",
   "metadata": {},
   "source": [
    "<div style=\"display: flex\">\n",
    "<img src=\"task%206%2016x16.png\" width=\"300\"/>\n",
    "<img src=\"task%206%2032x32%200.1.png\" width=\"300\"/>\n",
    "</div>"
   ]
  },
  {
   "cell_type": "code",
   "execution_count": 30,
   "metadata": {},
   "outputs": [],
   "source": [
    "# from can determine when the grid size is large enough whent the changes \n",
    "# between graphs is not significant\n",
    "# looking at the graphs it looks like 16x16 is large enough to correctly model\n",
    "# the long range fluctuations"
   ]
  },
  {
   "cell_type": "code",
   "execution_count": 27,
   "metadata": {},
   "outputs": [],
   "source": [
    "T = np.loadtxt(\"2x2.dat\")[:,0]\n",
    "E = np.loadtxt(\"2x2.dat\")[:,1]\n",
    "M = np.loadtxt(\"2x2.dat\")[:,3]\n"
   ]
  },
  {
   "cell_type": "markdown",
   "metadata": {},
   "source": [
    "### Task 7"
   ]
  },
  {
   "cell_type": "markdown",
   "metadata": {},
   "source": [
    "the heat capacity of the 2D Ising model should become very strongly peaked at the phase transition temperature (in fact, when T = T_C exactly, C diverges)."
   ]
  },
  {
   "cell_type": "markdown",
   "metadata": {},
   "source": [
    "$$ C = \\frac{\\partial{\\langle E \\rangle}}{\\partial{T}} $$\n",
    "$$ C = \\frac{Var[E]}{k_BT^2}"
   ]
  },
  {
   "cell_type": "markdown",
   "metadata": {},
   "source": [
    "Using this relation, and the data that you generated in the previous sections, you can now determine the heat capacity of your lattice as a function of temperature and system size."
   ]
  },
  {
   "cell_type": "markdown",
   "metadata": {},
   "source": [
    "TASK 7b: Write a Python script to make a plot showing the heat capacity versus temperature for each of your lattice sizes from the previous section. You may need to do some research to recall the connection between the variance of a variable, $\\mathrm{Var}[X]$, the mean of its square $\\left\\langle X^2\\right\\rangle$, and its squared mean $\\left\\langle X\\right\\rangle^2$. You may find that the data around the peak is very noisy — this is normal, and is a result of being in the critical region. As before, use the plot controls to save your a PNG image of your plot and attach this to the report."
   ]
  },
  {
   "cell_type": "code",
   "execution_count": 290,
   "metadata": {},
   "outputs": [],
   "source": [
    "T = np.loadtxt(\"2x2.dat\")[:,0]\n",
    "varE_2 = np.loadtxt(\"2x2.dat\")[:,2]-np.loadtxt(\"2x2.dat\")[:,1]**2\n",
    "varE_4 = np.loadtxt(\"4x4.dat\")[:,2]-np.loadtxt(\"4x4.dat\")[:,1]**2\n",
    "varE_8 = np.loadtxt(\"8x8.dat\")[:,2]-np.loadtxt(\"8x8.dat\")[:,1]**2\n",
    "varE_16 = np.loadtxt(\"16x16.dat\")[:,2]-np.loadtxt(\"16x16.dat\")[:,1]**2\n",
    "varE_32 = np.loadtxt(\"32x32.dat\")[:,2]-np.loadtxt(\"32x32.dat\")[:,1]**2"
   ]
  },
  {
   "cell_type": "code",
   "execution_count": 296,
   "metadata": {},
   "outputs": [],
   "source": [
    "C_2 = varE_2/(T**2)/4\n",
    "C_4 = varE_4/(T**2)/16\n",
    "C_8 = varE_8/(T**2)/64\n",
    "C_16 = varE_16/(T**2)/256\n",
    "C_32 = varE_32/(T**2)/32**2"
   ]
  },
  {
   "cell_type": "code",
   "execution_count": 297,
   "metadata": {},
   "outputs": [
    {
     "data": {
      "text/plain": [
       "<matplotlib.legend.Legend at 0x7f78760b34f0>"
      ]
     },
     "execution_count": 297,
     "metadata": {},
     "output_type": "execute_result"
    }
   ],
   "source": [
    "plt.plot(T, C_2, label='2x2')\n",
    "plt.plot(T, C_4, label='4x4')\n",
    "plt.plot(T, C_8, label='8x8')\n",
    "plt.plot(T, C_16, label='16x16')\n",
    "plt.plot(T, C_32, label='32x32')\n",
    "plt.xlabel('Temperature/ K')\n",
    "plt.ylabel(\"Heat capacity, C\")\n",
    "plt.legend()"
   ]
  },
  {
   "cell_type": "markdown",
   "metadata": {},
   "source": [
    "<div>\n",
    "<img src=\"task%207%20.png\" width=\"400\"/>\n",
    "</div>"
   ]
  },
  {
   "cell_type": "code",
   "execution_count": 289,
   "metadata": {},
   "outputs": [],
   "source": [
    "# strongly peaked at Tc\n",
    "# peak becomes increasingly sharp as grid size increases\n",
    "# infinite system: divereages at Tc"
   ]
  },
  {
   "cell_type": "code",
   "execution_count": null,
   "metadata": {},
   "outputs": [],
   "source": [
    "# using reduced untis where kb = 1 (unitless)\n",
    "# E = [K]\n",
    "# T = [K]\n"
   ]
  },
  {
   "cell_type": "markdown",
   "metadata": {},
   "source": [
    "### Task 8a"
   ]
  },
  {
   "cell_type": "markdown",
   "metadata": {},
   "source": [
    "TASK 8a: A C++ program has been used to run some much longer simulations than would be possible on the college computers in Python. Each file contains six columns: T, E, E^2, M, M^2, C (the final five quantities are per spin), and you can read them with the NumPy loadtxt function as before. For each lattice size, plot the C++ data against your data. For one lattice size, save a PNG of this comparison and add it to your report — add a legend to the graph to label which is which."
   ]
  },
  {
   "cell_type": "code",
   "execution_count": 295,
   "metadata": {},
   "outputs": [],
   "source": [
    "file_2x2_c_plus = np.loadtxt(\"C++_data/c2x2.dat\")\n",
    "file_4x4_c_plus = np.loadtxt(\"C++_data/c4x4.dat\")\n",
    "file_8x8_c_plus = np.loadtxt(\"C++_data/c8x8.dat\")\n",
    "file_16x16_c_plus = np.loadtxt(\"C++_data/c16x16.dat\")\n",
    "file_32x32_c_plus = np.loadtxt(\"C++_data/c32x32.dat\")\n",
    "file_64x64_c_plus = np.loadtxt(\"C++_data/c64x64.dat\")\n",
    "\n",
    "T_c_plus = file_2x2_c_plus[:,0]\n",
    "E_c_plus = file_2x2_c_plus[:,1]\n",
    "M_c_plus = file_2x2_c_plus[:,3]"
   ]
  },
  {
   "cell_type": "code",
   "execution_count": 337,
   "metadata": {},
   "outputs": [
    {
     "data": {
      "text/plain": [
       "Text(0, 0.5, 'E/K')"
      ]
     },
     "execution_count": 337,
     "metadata": {},
     "output_type": "execute_result"
    }
   ],
   "source": [
    "# energy vs T\n",
    "plt.plot(file_2x2_c_plus[:,0], file_2x2_c_plus[:,1], label = 'C++')\n",
    "plt.plot(T, E_avg_list[0], label ='Python')\n",
    "plt.plot(file_4x4_c_plus[:,0], file_4x4_c_plus[:,1], label = 'C++')\n",
    "plt.plot(T, E_avg_list[1], label ='Python')\n",
    "plt.plot(file_8x8_c_plus[:,0], file_8x8_c_plus[:,1], label = 'C++')\n",
    "plt.plot(T, E_avg_list[2], label ='Python')\n",
    "plt.plot(file_16x16_c_plus[:,0], file_16x16_c_plus[:,1], label = 'C++')\n",
    "plt.plot(T, E_avg_list[3], label ='Python')\n",
    "plt.plot(file_32x32_c_plus[:,0], file_32x32_c_plus[:,1], label = 'C++')\n",
    "plt.plot(T, E_avg_list[4], label ='Python')\n",
    "plt.ylim(-2.2,0)\n",
    "plt.legend()\n",
    "plt.xlabel('Temperature/K')\n",
    "plt.ylabel('E/K')\n",
    "\n"
   ]
  },
  {
   "cell_type": "code",
   "execution_count": 338,
   "metadata": {},
   "outputs": [
    {
     "data": {
      "text/plain": [
       "Text(0, 0.5, 'Magnetism')"
      ]
     },
     "execution_count": 338,
     "metadata": {},
     "output_type": "execute_result"
    }
   ],
   "source": [
    "# M vs T\n",
    "plt.plot(file_2x2_c_plus[:,0], file_2x2_c_plus[:,3], label = 'C++')\n",
    "plt.plot(T, M_avg_list[0], label ='Python')\n",
    "plt.plot(file_4x4_c_plus[:,0], file_4x4_c_plus[:,3], label = 'C++')\n",
    "plt.plot(T, M_avg_list[1], label ='Python')\n",
    "plt.plot(file_8x8_c_plus[:,0], file_8x8_c_plus[:,3], label = 'C++')\n",
    "plt.plot(T, M_avg_list[2], label ='Python')\n",
    "plt.plot(file_16x16_c_plus[:,0], file_16x16_c_plus[:,3], label = 'C++')\n",
    "plt.plot(T, M_avg_list[3], label ='Python')\n",
    "plt.plot(file_32x32_c_plus[:,0], file_32x32_c_plus[:,3], label = 'C++')\n",
    "plt.plot(T, M_avg_list[4], label ='Python')\n",
    "plt.ylim(-1.5,1.5)\n",
    "plt.legend(loc=1)\n",
    "plt.xlabel('Temperature/K')\n",
    "plt.ylabel('Magnetism')"
   ]
  },
  {
   "cell_type": "code",
   "execution_count": 346,
   "metadata": {},
   "outputs": [
    {
     "data": {
      "text/plain": [
       "<matplotlib.legend.Legend at 0x7f7797f62a00>"
      ]
     },
     "execution_count": 346,
     "metadata": {},
     "output_type": "execute_result"
    }
   ],
   "source": [
    "#8x8\n",
    "fig, axs = plt.subplots(2)\n",
    "axs[0].plot(file_8x8_c_plus[:,0], file_8x8_c_plus[:,1], label = 'C++')\n",
    "axs[0].plot(T, E_avg_list[2], label ='Python')\n",
    "\n",
    "axs[1].plot(file_8x8_c_plus[:,0], file_8x8_c_plus[:,3], label = 'C++')\n",
    "axs[1].plot(T, M_avg_list[2], label ='Python')\n",
    "axs[0].legend()"
   ]
  },
  {
   "cell_type": "code",
   "execution_count": 347,
   "metadata": {},
   "outputs": [
    {
     "data": {
      "text/plain": [
       "<matplotlib.legend.Legend at 0x7f7783de0a00>"
      ]
     },
     "execution_count": 347,
     "metadata": {},
     "output_type": "execute_result"
    }
   ],
   "source": [
    "#16x16\n",
    "fig, axs = plt.subplots(2)\n",
    "axs[0].plot(file_16x16_c_plus[:,0], file_16x16_c_plus[:,1], label = 'C++')\n",
    "axs[0].plot(T, E_avg_list[3], label ='Python')\n",
    "axs[1].plot(file_16x16_c_plus[:,0], file_16x16_c_plus[:,3], label = 'C++')\n",
    "axs[1].plot(T, M_avg_list[3], label ='Python')\n",
    "axs[0].legend()"
   ]
  },
  {
   "cell_type": "code",
   "execution_count": 700,
   "metadata": {},
   "outputs": [
    {
     "data": {
      "text/plain": [
       "<matplotlib.legend.Legend at 0x7f7706f53b50>"
      ]
     },
     "execution_count": 700,
     "metadata": {},
     "output_type": "execute_result"
    }
   ],
   "source": [
    "#32x32\n",
    "data = np.loadtxt(\"32x32.dat\")\n",
    "T = data[:,0]\n",
    "C = (data[:,2] - data[:,1]**2)/(T**2*32**2)\n",
    "\n",
    "plt.plot(file_32x32_c_plus[:,0], file_32x32_c_plus[:,-1], label = 'C++')\n",
    "plt.plot(T, C, label ='Python')\n",
    "#plt.errorbar(T, C, yerr=E_error[4], fmt='.', linestyle='-', label =f'{2**(i+1)}x{2**(i+1)}')\n",
    "\n",
    "plt.xlabel('Temperature/ K')\n",
    "plt.ylabel(\"Heat capacity, C\")\n",
    "plt.legend()"
   ]
  },
  {
   "cell_type": "markdown",
   "metadata": {},
   "source": [
    "<div>\n",
    "<img src=\"task%208a%2032x32.png\" width=\"400\"/>\n",
    "</div>"
   ]
  },
  {
   "cell_type": "code",
   "execution_count": null,
   "metadata": {},
   "outputs": [],
   "source": [
    "#32x32\n",
    "fig, axs = plt.subplots(2)\n",
    "axs[0].plot(file_32x32_c_plus[:,0], file_32x32_c_plus[:,-1], label = 'C++')\n",
    "#axs[0].plot(T, E_avg_list[3], label ='Python')\n",
    "axs[0].errorbar(T, E_avg_list[4], yerr=E_error[4], fmt='.', linestyle='-', label =f'{2**(i+1)}x{2**(i+1)}')\n",
    "\n",
    "axs[1].plot(file_32x32_c_plus[:,0], file_32x32_c_plus[:,3], label = 'C++')\n",
    "#axs[1].plot(T, M_avg_list[4], label ='Python')\n",
    "axs[1].errorbar(T, M_avg_list[4], yerr=M_error[4], fmt='.', linestyle='-', label =f'{2**(i+1)}x{2**(i+1)}')\n",
    "\n",
    "axs[0].set_ylabel('Energy per spin')\n",
    "axs[1].set_xlabel('Temperature/ K')\n",
    "axs[1].set_ylabel('Magnetisation per spin')\n",
    "axs[0].legend()"
   ]
  },
  {
   "cell_type": "code",
   "execution_count": 321,
   "metadata": {},
   "outputs": [],
   "source": [
    "# C++ data samples every 0.02K, much more fine"
   ]
  },
  {
   "cell_type": "markdown",
   "metadata": {},
   "source": [
    "### Task 8b"
   ]
  },
  {
   "cell_type": "code",
   "execution_count": 707,
   "metadata": {},
   "outputs": [
    {
     "data": {
      "text/plain": [
       "Text(0.5, 0, 'Temperature/ K')"
      ]
     },
     "execution_count": 707,
     "metadata": {},
     "output_type": "execute_result"
    }
   ],
   "source": [
    "data = np.loadtxt(\"16x16.dat\") #assume data is now a 2D array containing two columns, T and C\n",
    "T = data[:,0] #get the first column\n",
    "C = (data[:,2] - data[:,1]**2)/(T**2*16**2) # get the second column\n",
    "\n",
    "#first we fit the polynomial to the data\n",
    "fit = np.polyfit(T, C, 5) # fit a third order polynomial\n",
    "\n",
    "#now we generate interpolated values of the fitted polynomial over the range of our function\n",
    "T_min = np.min(T)\n",
    "T_max = np.max(T)\n",
    "T_range = np.linspace(T_min, T_max, 1000) #generate 1000 evenly spaced points between T_min and T_max\n",
    "fitted_C_values = np.polyval(fit, T_range) # use the fit object to generate the corresponding values of C\n",
    "\n",
    "plt.plot(T, C, marker = '.')\n",
    "plt.plot(np.linspace(T_min, T_max, 1000), fitted_C_values, label = 'Polynomial fit of order 5')\n",
    "#plt.plot(np.linspace(T_min, T_max, 1000), f(np.linspace(T_min, T_max, 1000), *popt))\n",
    "plt.legend()\n",
    "plt.ylabel(\"Heat Capacity, C\")\n",
    "plt.xlabel(\"Temperature/ K\")\n"
   ]
  },
  {
   "cell_type": "code",
   "execution_count": 377,
   "metadata": {},
   "outputs": [
    {
     "data": {
      "text/plain": [
       "array([-1.02189019e+00,  2.72057637e+01, -3.11596326e+02,  2.00783239e+03,\n",
       "       -7.99617667e+03,  2.03864909e+04, -3.34272284e+04,  3.46256205e+04,\n",
       "       -2.16190091e+04,  7.34148831e+03, -1.54356157e+03])"
      ]
     },
     "execution_count": 377,
     "metadata": {},
     "output_type": "execute_result"
    }
   ],
   "source": [
    "np.polyfit(T, C, 10)"
   ]
  },
  {
   "cell_type": "markdown",
   "metadata": {},
   "source": [
    "### Task 8c"
   ]
  },
  {
   "cell_type": "code",
   "execution_count": 708,
   "metadata": {},
   "outputs": [
    {
     "data": {
      "text/plain": [
       "<matplotlib.legend.Legend at 0x7f7707205e20>"
      ]
     },
     "execution_count": 708,
     "metadata": {},
     "output_type": "execute_result"
    }
   ],
   "source": [
    "data = np.loadtxt(\"32x32.dat\") #assume data is now a 2D array containing two columns, T and C\n",
    "T = data[:,0] #get the first column\n",
    "C = (data[:,2] - data[:,1]**2)/(T**2*16**2) # get the second column\n",
    "varE_2 = np.loadtxt(\"32x32.dat\")[:,2]-np.loadtxt(\"32x32.dat\")[:,1]**2\n",
    "Tmin = 2 #for example\n",
    "Tmax = 3 #for example\n",
    "\n",
    "selection = np.logical_and(T > Tmin, T < Tmax) #choose only those rows where both conditions are true\n",
    "peak_T_values = T[selection]\n",
    "peak_C_values = C[selection]\n",
    "\n",
    "peak_T_range = np.linspace(Tmin, Tmax, 1000)\n",
    "\n",
    "fit = np.polyfit(peak_T_values, peak_C_values, 5)\n",
    "fitted_C_values = np.polyval(fit, peak_T_range)\n",
    "\n",
    "plt.plot(T, C)\n",
    "plt.plot(peak_T_range, fitted_C_values, label = 'Polynomial degree = 5')\n",
    "plt.ylabel(\"Heat Capacity, C\")\n",
    "plt.xlabel(\"Temperature/ K\")\n",
    "plt.legend(fontsize = 10)\n"
   ]
  },
  {
   "cell_type": "code",
   "execution_count": 438,
   "metadata": {},
   "outputs": [],
   "source": [
    "# fit resembles shape of peak well"
   ]
  },
  {
   "cell_type": "code",
   "execution_count": 418,
   "metadata": {},
   "outputs": [
    {
     "data": {
      "text/plain": [
       "array([2.31121121])"
      ]
     },
     "execution_count": 418,
     "metadata": {},
     "output_type": "execute_result"
    }
   ],
   "source": [
    "Cmax = np.max(fitted_C_values)\n",
    "Tmax = peak_T_range[fitted_C_values == Cmax]\n",
    "Tmax"
   ]
  },
  {
   "cell_type": "code",
   "execution_count": 440,
   "metadata": {},
   "outputs": [],
   "source": [
    "Tc_array = np.zeros(5)"
   ]
  },
  {
   "cell_type": "markdown",
   "metadata": {},
   "source": [
    "### 2x2"
   ]
  },
  {
   "cell_type": "code",
   "execution_count": 445,
   "metadata": {},
   "outputs": [],
   "source": [
    "data = np.loadtxt(\"2x2.dat\")\n",
    "T = data[:,0]\n",
    "C = (data[:,2] - data[:,1]**2)/(T**2*16**2)\n",
    "varE_2 = data[:,2]-data[:,1]**2\n",
    "Tmin = 1.7\n",
    "Tmax = 3.7\n",
    "\n",
    "selection = np.logical_and(T > Tmin, T < Tmax) #choose only those rows where both conditions are true\n",
    "peak_T_values = T[selection]\n",
    "peak_C_values = C[selection]\n",
    "\n",
    "peak_T_range = np.linspace(Tmin, Tmax, 1000)\n",
    "\n",
    "fit = np.polyfit(peak_T_values, peak_C_values, 5)\n",
    "fitted_C_values = np.polyval(fit, peak_T_range)\n",
    "\n",
    "Cmax = np.max(fitted_C_values)\n",
    "Tmax = peak_T_range[fitted_C_values == Cmax]\n",
    "Tc_array[0] = Tmax\n",
    "\n",
    "# plt.plot(T, C)\n",
    "# plt.plot(peak_T_range, fitted_C_values, label = 'Polynomial degree = 5')\n"
   ]
  },
  {
   "cell_type": "markdown",
   "metadata": {},
   "source": [
    "### 4x4"
   ]
  },
  {
   "cell_type": "code",
   "execution_count": 452,
   "metadata": {},
   "outputs": [
    {
     "data": {
      "text/plain": [
       "[<matplotlib.lines.Line2D at 0x7f78574912b0>]"
      ]
     },
     "execution_count": 452,
     "metadata": {},
     "output_type": "execute_result"
    }
   ],
   "source": [
    "data = np.loadtxt(\"4x4.dat\")\n",
    "T = data[:,0]\n",
    "C = (data[:,2] - data[:,1]**2)/(T**2*16**2)\n",
    "varE_2 = data[:,2]-data[:,1]**2\n",
    "Tmin = 1.7\n",
    "Tmax = 3.5\n",
    "\n",
    "selection = np.logical_and(T > Tmin, T < Tmax) #choose only those rows where both conditions are true\n",
    "peak_T_values = T[selection]\n",
    "peak_C_values = C[selection]\n",
    "\n",
    "peak_T_range = np.linspace(Tmin, Tmax, 1000)\n",
    "\n",
    "fit = np.polyfit(peak_T_values, peak_C_values, 5)\n",
    "fitted_C_values = np.polyval(fit, peak_T_range)\n",
    "\n",
    "Cmax = np.max(fitted_C_values)\n",
    "Tmax = peak_T_range[fitted_C_values == Cmax]\n",
    "Tc_array[1] = Tmax\n",
    "\n",
    "plt.plot(T, C)\n",
    "plt.plot(peak_T_range, fitted_C_values, label = 'Polynomial degree = 5')"
   ]
  },
  {
   "cell_type": "markdown",
   "metadata": {},
   "source": [
    "### 8x8"
   ]
  },
  {
   "cell_type": "code",
   "execution_count": 453,
   "metadata": {},
   "outputs": [
    {
     "data": {
      "text/plain": [
       "[<matplotlib.lines.Line2D at 0x7f784683d100>]"
      ]
     },
     "execution_count": 453,
     "metadata": {},
     "output_type": "execute_result"
    }
   ],
   "source": [
    "data = np.loadtxt(\"8x8.dat\")\n",
    "T = data[:,0]\n",
    "C = (data[:,2] - data[:,1]**2)/(T**2*16**2)\n",
    "varE_2 = data[:,2]-data[:,1]**2\n",
    "Tmin = 1.8\n",
    "Tmax = 3.2\n",
    "\n",
    "selection = np.logical_and(T > Tmin, T < Tmax) #choose only those rows where both conditions are true\n",
    "peak_T_values = T[selection]\n",
    "peak_C_values = C[selection]\n",
    "\n",
    "peak_T_range = np.linspace(Tmin, Tmax, 1000)\n",
    "\n",
    "fit = np.polyfit(peak_T_values, peak_C_values, 5)\n",
    "fitted_C_values = np.polyval(fit, peak_T_range)\n",
    "\n",
    "Cmax = np.max(fitted_C_values)\n",
    "Tmax = peak_T_range[fitted_C_values == Cmax]\n",
    "Tc_array[2] = Tmax\n",
    "\n",
    "plt.plot(T, C)\n",
    "plt.plot(peak_T_range, fitted_C_values, label = 'Polynomial degree = 5')"
   ]
  },
  {
   "cell_type": "markdown",
   "metadata": {},
   "source": [
    "### 16x16"
   ]
  },
  {
   "cell_type": "code",
   "execution_count": 724,
   "metadata": {},
   "outputs": [],
   "source": [
    "def curie_T(size):\n",
    "    data = np.loadtxt(f\"{size}x{size}.dat\")\n",
    "    T = data[:,0]\n",
    "    C = (data[:,2] - data[:,1]**2)/(T**2*16**2)\n",
    "    varE_2 = data[:,2]-data[:,1]**2\n",
    "    Tmin = 2.2\n",
    "    Tmax = 2.8\n",
    "\n",
    "    selection = np.logical_and(T > Tmin, T < Tmax) #choose only those rows where both conditions are true\n",
    "    peak_T_values = T[selection]\n",
    "    peak_C_values = C[selection]\n",
    "\n",
    "    peak_T_range = np.linspace(Tmin, Tmax, 1000)\n",
    "\n",
    "    fit = np.polyfit(peak_T_values, peak_C_values, 6)\n",
    "    fitted_C_values = np.polyval(fit, peak_T_range)\n",
    "\n",
    "    Cmax = np.max(fitted_C_values)\n",
    "    T_c = peak_T_range[fitted_C_values == Cmax]\n",
    "    \n",
    "    return T_c"
   ]
  },
  {
   "cell_type": "code",
   "execution_count": 732,
   "metadata": {},
   "outputs": [
    {
     "name": "stderr",
     "output_type": "stream",
     "text": [
      "/Users/joehart/opt/anaconda3/lib/python3.8/site-packages/IPython/core/interactiveshell.py:3343: RankWarning: Polyfit may be poorly conditioned\n",
      "  exec(code_obj, self.user_global_ns, self.user_ns)\n"
     ]
    },
    {
     "data": {
      "text/plain": [
       "Text(0.5, 0, 'Temperature/ K')"
      ]
     },
     "execution_count": 732,
     "metadata": {},
     "output_type": "execute_result"
    }
   ],
   "source": [
    "\n",
    "data = np.loadtxt(\"16x16.dat\")\n",
    "T = data[:,0]\n",
    "C = (data[:,2] - data[:,1]**2)/(T**2*16**2)\n",
    "varE_2 = data[:,2]-data[:,1]**2\n",
    "Tmin = 2.2\n",
    "Tmax = 2.6\n",
    "\n",
    "selection = np.logical_and(T > Tmin, T < Tmax) #choose only those rows where both conditions are true\n",
    "peak_T_values = T[selection]\n",
    "peak_C_values = C[selection]\n",
    "\n",
    "peak_T_range = np.linspace(Tmin, Tmax, 1000)\n",
    "x\n",
    "fit = np.polyfit(peak_T_values, peak_C_values, 6)\n",
    "fitted_C_values = np.polyval(fit, peak_T_range)\n",
    "\n",
    "Cmax = np.max(fitted_C_values)\n",
    "T_c = peak_T_range[fitted_C_values == Cmax]\n",
    "    \n",
    "\n",
    "Tc_array[3] = T_c\n",
    "\n",
    "#plt.vlines(T_c, 0, 1.76)\n",
    "plt.plot(T, C, marker = '.')\n",
    "plt.plot(peak_T_range, fitted_C_values, label = 'Polynomial degree = 6')\n",
    "plt.legend()\n",
    "plt.ylabel(\"Heat Capacity, C\")\n",
    "plt.xlabel(\"Temperature/ K\")\n"
   ]
  },
  {
   "cell_type": "code",
   "execution_count": 733,
   "metadata": {},
   "outputs": [
    {
     "data": {
      "text/plain": [
       "array([2.31931932])"
      ]
     },
     "execution_count": 733,
     "metadata": {},
     "output_type": "execute_result"
    }
   ],
   "source": [
    "T_c"
   ]
  },
  {
   "cell_type": "code",
   "execution_count": 517,
   "metadata": {},
   "outputs": [
    {
     "data": {
      "text/plain": [
       "array([2.1, 2.2, 2.3, 2.4, 2.5, 2.6, 2.7, 2.8, 2.9, 3. ])"
      ]
     },
     "execution_count": 517,
     "metadata": {},
     "output_type": "execute_result"
    }
   ],
   "source": [
    "peak_T_values"
   ]
  },
  {
   "cell_type": "markdown",
   "metadata": {},
   "source": [
    "### 32x32"
   ]
  },
  {
   "cell_type": "code",
   "execution_count": 692,
   "metadata": {},
   "outputs": [
    {
     "name": "stderr",
     "output_type": "stream",
     "text": [
      "/Users/joehart/opt/anaconda3/lib/python3.8/site-packages/IPython/core/interactiveshell.py:3343: RankWarning: Polyfit may be poorly conditioned\n",
      "  exec(code_obj, self.user_global_ns, self.user_ns)\n"
     ]
    },
    {
     "data": {
      "text/plain": [
       "[<matplotlib.lines.Line2D at 0x7f7705f7c910>]"
      ]
     },
     "execution_count": 692,
     "metadata": {},
     "output_type": "execute_result"
    }
   ],
   "source": [
    "data = np.loadtxt(\"32x32.dat\")\n",
    "T = data[:,0]\n",
    "C = (data[:,2] - data[:,1]**2)/(T**2*32**2)\n",
    "varE_2 = data[:,2]-data[:,1]**2\n",
    "Tmin = 2.1\n",
    "Tmax = 2.4\n",
    "\n",
    "selection = np.logical_and(T > Tmin, T < Tmax) #choose only those rows where both conditions are true\n",
    "peak_T_values = T[selection]\n",
    "peak_C_values = C[selection]\n",
    "\n",
    "peak_T_range = np.linspace(Tmin, Tmax, 1000)\n",
    "\n",
    "fit = np.polyfit(peak_T_values, peak_C_values, 4)\n",
    "fitted_C_values = np.polyval(fit, peak_T_range)\n",
    "\n",
    "Cmax = np.max(fitted_C_values)\n",
    "T_c = peak_T_range[fitted_C_values == Cmax]\n",
    "Tc_array[4] = T_c\n",
    "plt.vlines(T_c, 0, 2)\n",
    "#plt.axvline(Tmin)\n",
    "#plt.axvline(Tmax)\n",
    "plt.ylim(0,2)\n",
    "plt.plot(T, C,marker='.')\n",
    "plt.plot(peak_T_range, fitted_C_values, label = 'Polynomial degree = 5')"
   ]
  },
  {
   "cell_type": "code",
   "execution_count": 535,
   "metadata": {},
   "outputs": [
    {
     "data": {
      "text/plain": [
       "array([2.54684685, 2.48738739, 2.36756757, 2.31931932, 2.2966967 ])"
      ]
     },
     "execution_count": 535,
     "metadata": {},
     "output_type": "execute_result"
    }
   ],
   "source": [
    "Tc_array"
   ]
  },
  {
   "cell_type": "code",
   "execution_count": 474,
   "metadata": {},
   "outputs": [],
   "source": [
    "# theoretical exact Curie temperature for the infinite 2D Ising lattice\n",
    "# Tc = 2.269\n",
    "# my data tends to this value"
   ]
  },
  {
   "cell_type": "code",
   "execution_count": 544,
   "metadata": {},
   "outputs": [
    {
     "data": {
      "text/plain": [
       "Text(0, 0.5, '$T_{C,L}$')"
      ]
     },
     "execution_count": 544,
     "metadata": {},
     "output_type": "execute_result"
    }
   ],
   "source": [
    "# Tc_L = A/L + Tc_inf\n",
    "# plot Tc_L (Tc_array) vs 1/L\n",
    "# fit this curve to a y = mx + c\n",
    "# Tc_inf = c\n",
    "\n",
    "fit = np.polyfit(1/np.array([2,4,8,16,32]), Tc_array, 1)\n",
    "fitted_C_values = np.polyval(fit, 1/np.array([2,4,8,16,32]))\n",
    "\n",
    "plt.plot(1/np.array([2,4,8,16,32]), Tc_array, linestyle = '', marker = '*')\n",
    "plt.plot(1/np.array([2,4,8,16,32]), fit[0]/np.array([2,4,8,16,32]) + fit[1], label = '$T_{C,\\infty}$ = %.2f' %(fit[1]))\n",
    "plt.legend()\n",
    "plt.xlabel('1/L')\n",
    "plt.ylabel('$T_{C,L}$')\n",
    "\n"
   ]
  },
  {
   "cell_type": "code",
   "execution_count": 559,
   "metadata": {},
   "outputs": [
    {
     "data": {
      "text/plain": [
       "Text(0, 0.5, '$T_{C,L}$')"
      ]
     },
     "execution_count": 559,
     "metadata": {},
     "output_type": "execute_result"
    }
   ],
   "source": [
    "fit = np.polyfit(1/np.array([4,8,16,32]), Tc_array[1:], 1, cov = True)\n",
    "fitted_C_values = np.polyval(fit[0], 1/np.array([4,8,16,32]))\n",
    "\n",
    "plt.plot(1/np.array([4,8,16,32]), Tc_array[1:], linestyle = '', marker = '*')\n",
    "plt.plot(1/np.array([4,8,16,32]), fit[0][0]/np.array([4,8,16,32]) + fit[0][1], label = '$T_{C,\\infty}$ = %.3f $\\pm$ %.3f' %(fit[0][1], fit[1][1][1]**0.5))\n",
    "plt.legend()\n",
    "plt.xlabel('1/L')\n",
    "plt.ylabel('$T_{C,L}$')"
   ]
  },
  {
   "cell_type": "code",
   "execution_count": 546,
   "metadata": {},
   "outputs": [
    {
     "data": {
      "text/plain": [
       "Text(0, 0.5, '$T_{C,L}$')"
      ]
     },
     "execution_count": 546,
     "metadata": {},
     "output_type": "execute_result"
    }
   ],
   "source": [
    "fit = np.polyfit(1/np.array([8,16,32]), Tc_array[2:], 1)\n",
    "fitted_C_values = np.polyval(fit, 1/np.array([8,16,32]))\n",
    "\n",
    "plt.plot(1/np.array([8,16,32]), Tc_array[2:], linestyle = '', marker = '*')\n",
    "plt.plot(1/np.array([8,16,32]), fit[0]/np.array([8,16,32]) + fit[1], label = '$T_{C,\\infty}$ = %.2f' %(fit[1]))\n",
    "plt.legend()\n",
    "plt.xlabel('1/L')\n",
    "plt.ylabel('$T_{C,L}$')"
   ]
  },
  {
   "cell_type": "code",
   "execution_count": 673,
   "metadata": {},
   "outputs": [
    {
     "data": {
      "text/plain": [
       "Text(0, 0.5, '$T_{C,L}$/ K')"
      ]
     },
     "execution_count": 673,
     "metadata": {},
     "output_type": "execute_result"
    }
   ],
   "source": [
    "fit1 = np.polyfit(1/np.array([2,4,8,16,32]), Tc_array, 1, cov = True)\n",
    "fitted_C_values = np.polyval(fit1[0], 1/np.array([2,4,8,16,32]))\n",
    "\n",
    "plt.plot(1/np.array([2,4,8,16,32]), Tc_array, linestyle = '', marker = '*')\n",
    "plt.plot(1/np.array([2,4,8,16,32]), fit1[0][0]/np.array([2,4,8,16,32]) + fit1[0][1], label = '$T_{C,\\infty}$ = %.3f $\\pm$ %.3f K' %(fit1[0][1], fit1[1][1][1]**0.5))\n",
    "\n",
    "fit2 = np.polyfit(1/np.array([4,8,16,32]), Tc_array[1:], 1, cov = True)\n",
    "fitted_C_values = np.polyval(fit2[0], 1/np.array([4,8,16,32]))\n",
    "\n",
    "plt.plot(1/np.array([4,8,16,32]), fit2[0][0]/np.array([4,8,16,32]) + fit2[0][1], label = '$T_{C,\\infty}$ = %.3f $\\pm$ %.3f K' %(fit2[0][1], fit2[1][1][1]**0.5))\n",
    "\n",
    "plt.legend()\n",
    "plt.xlabel('1/L')\n",
    "plt.ylabel('$T_{C,L}$/ K')"
   ]
  },
  {
   "cell_type": "code",
   "execution_count": null,
   "metadata": {},
   "outputs": [],
   "source": []
  },
  {
   "cell_type": "code",
   "execution_count": 547,
   "metadata": {},
   "outputs": [
    {
     "data": {
      "text/plain": [
       "array([0.75824396, 2.27257257])"
      ]
     },
     "execution_count": 547,
     "metadata": {},
     "output_type": "execute_result"
    }
   ],
   "source": [
    "fit"
   ]
  },
  {
   "cell_type": "markdown",
   "metadata": {},
   "source": [
    "### Code"
   ]
  },
  {
   "cell_type": "markdown",
   "metadata": {},
   "source": [
    "old energy function (slow):\n",
    " def energy(self):\n",
    "    #     \"Return the total energy of the current lattice configuration.\"\n",
    "    #     energy = 0.0\n",
    "    #     # can do in an L shape only taking 2 neighbours, \n",
    "        \n",
    "        \n",
    "    #     for i in range(self.n_rows):\n",
    "    #         for j in range(self.n_cols):\n",
    "    #             sum_sisj = 0\n",
    "    #             # R = (i+1)%self.n_rows\n",
    "    #             # L = (i-1)%self.n_rows\n",
    "    #             # UP = (j+1)%self.n_cols\n",
    "    #             # DOWN = (j-1)%self.n_cols\n",
    "                \n",
    "    #             #neighbours = np.array([self.lattice[R, j], self.lattice[L, j], self.lattice[i, UP], self.lattice[i, DOWN]])\n",
    "    #             # Compute the sum of neighbouring spins\n",
    "    #             sum_sisj = np.sum(self.lattice * (R + L + UP + DOWN), axis=(0, 1))\n",
    "    \n",
    "    #             #sum_sisj = np.sum(self.lattice[i, j] * neighbours)\n",
    "    #             energy += -0.5*self.J*sum_sisj\n",
    "    #     return energy"
   ]
  },
  {
   "cell_type": "markdown",
   "metadata": {},
   "source": [
    "import numpy as np\n",
    "\n",
    "class IsingLattice:\n",
    "\n",
    "    E = 0.0\n",
    "    E2 = 0.0\n",
    "    M = 0.0\n",
    "    M2 = 0.0\n",
    "\n",
    "    n_cycles = 0\n",
    "\n",
    "    def __init__(self, n_rows, n_cols):\n",
    "        self.n_rows = n_rows\n",
    "        self.n_cols = n_cols\n",
    "        self.lattice = np.random.choice([-1,1], size=(n_rows, n_cols))\n",
    "        #self.N = n_rows*n_cols\n",
    "        self.J = 1\n",
    "        \n",
    "        def f(x, a, b, c):\n",
    "            return a + b*np.exp(c*x)\n",
    "        \n",
    "        self.cutoff = f(n_rows, a = -2.00899300e+03, b = 8.71557693e+02, c = 1.59759578e-01)\n",
    "\n",
    "    # def energy(self):\n",
    "    #     \"Return the total energy of the current lattice configuration.\"\n",
    "    #     energy = 0.0\n",
    "    #     # can do in an L shape only taking 2 neighbours, \n",
    "        \n",
    "        \n",
    "    #     for i in range(self.n_rows):\n",
    "    #         for j in range(self.n_cols):\n",
    "    #             sum_sisj = 0\n",
    "    #             # R = (i+1)%self.n_rows\n",
    "    #             # L = (i-1)%self.n_rows\n",
    "    #             # UP = (j+1)%self.n_cols\n",
    "    #             # DOWN = (j-1)%self.n_cols\n",
    "                \n",
    "    #             #neighbours = np.array([self.lattice[R, j], self.lattice[L, j], self.lattice[i, UP], self.lattice[i, DOWN]])\n",
    "    #             # Compute the sum of neighbouring spins\n",
    "    #             sum_sisj = np.sum(self.lattice * (R + L + UP + DOWN), axis=(0, 1))\n",
    "    \n",
    "    #             #sum_sisj = np.sum(self.lattice[i, j] * neighbours)\n",
    "    #             energy += -0.5*self.J*sum_sisj\n",
    "    #     return energy\n",
    "    \n",
    "    def energy(self):\n",
    "        \"\"\"\n",
    "        Return the total energy of the current lattice configuration.\n",
    "        \"\"\"\n",
    "        # Create arrays for the neighbouring spins in the lattice\n",
    "        # Just 2 directions to avoid double counting\n",
    "        R = np.roll(self.lattice, shift=-1, axis=0)\n",
    "        UP = np.roll(self.lattice, shift=-1, axis=1)\n",
    "        \n",
    "        # Compute the sum of neighbouring spins\n",
    "        sum_sisj = np.sum(self.lattice * (R + UP), axis=(0, 1))\n",
    "        \n",
    "        # Compute the energy and return it\n",
    "        energy = -self.J * sum_sisj\n",
    "        return energy\n",
    "\n",
    "    def magnetisation(self):\n",
    "        \"Return the total magnetisation of the current lattice configuration.\"\n",
    "        magnetisation = np.sum(self.lattice)\n",
    "        \n",
    "        return magnetisation\n",
    "\n",
    "    \n",
    "        \n",
    "\n",
    "    def montecarlostep(self, T):\n",
    "        self.n_cycles += 1\n",
    "        #can do this in 1-2 if statements\n",
    "        #generating a random number lets you test the probability distribution for one value\n",
    "        \n",
    "        # complete this function so that it performs a single Monte Carlo step\n",
    "        energy = self.energy()\n",
    "        \n",
    "        #the following two lines will select the coordinates of the random spin for you\n",
    "        random_i = np.random.choice(range(0, self.n_rows))\n",
    "        random_j = np.random.choice(range(0, self.n_cols))\n",
    "        \n",
    "        # flip the spin\n",
    "        self.lattice[random_i, random_j] = -1*self.lattice[random_i, random_j]\n",
    "\n",
    "        # calc energy of new config\n",
    "        new_energy = self.energy()\n",
    "        E_diff = new_energy - energy\n",
    "        \n",
    "        #the following line will choose a random number in the rang e[0,1) for you\n",
    "        random_number = np.random.random()\n",
    "        \n",
    "        botlzmann = np.exp(-E_diff/(T)) #*1.38e10-23\n",
    "        \n",
    "        if (E_diff > 0 and random_number > botlzmann):\n",
    "            # reject\n",
    "            self.lattice[random_i, random_j] = -1*self.lattice[random_i, random_j]\n",
    "               \n",
    "        else:\n",
    "            # accept the copy and return the new config and magnetisation\n",
    "            energy = new_energy\n",
    "        \n",
    "        M = self.magnetisation()\n",
    "        \n",
    "        \n",
    "        if self.n_cycles > self.cutoff:\n",
    "            self.E += energy\n",
    "            self.E2 += energy**2\n",
    "            self.M += M\n",
    "            self.M2 += M**2\n",
    "        else:\n",
    "            pass\n",
    "        \n",
    "        return energy, M\n",
    "\n",
    "            \n",
    "\n",
    "\n",
    "\n",
    "    def statistics(self):\n",
    "        #complete this function so that it calculates the correct values for the averages of E, E*E (E2), M, M*M (M2), and returns them with Nsteps\n",
    "        #Z = (2*np.cosh(self.J/1))**(self.N)\n",
    "        N = self.n_cycles\n",
    "        cutoff = self.cutoff\n",
    "        if N > cutoff:\n",
    "            avg_E = self.E/(N-cutoff)\n",
    "            avg_E2 = self.E2/(N-cutoff)\n",
    "            avg_M = self.M/(N-cutoff)\n",
    "            avg_M2 = self.M2/(N-cutoff)\n",
    "        \n",
    "        return avg_E, avg_E2, avg_M, avg_M2, N\n"
   ]
  },
  {
   "cell_type": "markdown",
   "metadata": {},
   "source": []
  }
 ],
 "metadata": {
  "kernelspec": {
   "display_name": "Python 3",
   "language": "python",
   "name": "python3"
  },
  "language_info": {
   "codemirror_mode": {
    "name": "ipython",
    "version": 3
   },
   "file_extension": ".py",
   "mimetype": "text/x-python",
   "name": "python",
   "nbconvert_exporter": "python",
   "pygments_lexer": "ipython3",
   "version": "3.8.18"
  },
  "vscode": {
   "interpreter": {
    "hash": "df301230b376293cd71fc9f554b85b965d58640d13674dc55aaf5e00f1e6cf4f"
   }
  }
 },
 "nbformat": 4,
 "nbformat_minor": 4
}
